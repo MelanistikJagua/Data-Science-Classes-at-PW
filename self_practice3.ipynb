{
 "cells": [
  {
   "cell_type": "markdown",
   "id": "5af55651-acc8-4f90-bc28-d34b7956f8db",
   "metadata": {},
   "source": [
    "# Loops"
   ]
  },
  {
   "cell_type": "markdown",
   "id": "5b3c44c0-94ce-420c-b624-4159a3e2e3a5",
   "metadata": {},
   "source": [
    "## 1. While\n",
    "## 2. For\n",
    "## 3. Nested loop\n",
    "## 4. Loop Control"
   ]
  },
  {
   "cell_type": "code",
   "execution_count": 4,
   "id": "026c3b1f-ff66-4788-9a63-aa8a6ac1d7fe",
   "metadata": {},
   "outputs": [],
   "source": [
    "# 1. While"
   ]
  },
  {
   "cell_type": "code",
   "execution_count": 2,
   "id": "851d6629-82ef-41c9-b69f-ab2b24c6c7bd",
   "metadata": {},
   "outputs": [
    {
     "name": "stdout",
     "output_type": "stream",
     "text": [
      "1 Welcome, click on 'apply here'\n",
      "2 Welcome, click on 'apply here'\n",
      "3 Welcome, click on 'apply here'\n",
      "4 Welcome, click on 'apply here'\n",
      "5 Welcome, click on 'apply here'\n",
      "6 Welcome, click on 'apply here'\n",
      "7 Welcome, click on 'apply here'\n",
      "8 Welcome, click on 'apply here'\n",
      "9 Welcome, click on 'apply here'\n",
      "10 Welcome, click on 'apply here'\n",
      "11 Welcome, click on 'apply here'\n",
      "12 Welcome, click on 'apply here'\n",
      "13 Welcome, click on 'apply here'\n",
      "14 Welcome, click on 'apply here'\n",
      "15 Welcome, click on 'apply here'\n",
      "16 Welcome, click on 'apply here'\n",
      "17 Welcome, click on 'apply here'\n",
      "18 Welcome, click on 'apply here'\n",
      "19 Welcome, click on 'apply here'\n",
      "20 Welcome, click on 'apply here'\n",
      "21 Welcome, click on 'apply here'\n",
      "22 Welcome, click on 'apply here'\n",
      "23 Welcome, click on 'apply here'\n",
      "24 Welcome, click on 'apply here'\n",
      "25 Welcome, click on 'apply here'\n",
      "26 Welcome, click on 'apply here'\n",
      "27 Welcome, click on 'apply here'\n",
      "28 Welcome, click on 'apply here'\n",
      "29 Welcome, click on 'apply here'\n",
      "30 Welcome, click on 'apply here'\n",
      "31 Welcome, click on 'apply here'\n",
      "32 Welcome, click on 'apply here'\n",
      "33 Welcome, click on 'apply here'\n",
      "34 Welcome, click on 'apply here'\n",
      "35 Welcome, click on 'apply here'\n",
      "36 Welcome, click on 'apply here'\n",
      "37 Welcome, click on 'apply here'\n",
      "38 Welcome, click on 'apply here'\n",
      "39 Welcome, click on 'apply here'\n",
      "40 Welcome, click on 'apply here'\n",
      "41 Welcome, click on 'apply here'\n",
      "42 Welcome, click on 'apply here'\n",
      "43 Welcome, click on 'apply here'\n",
      "44 Welcome, click on 'apply here'\n",
      "45 Welcome, click on 'apply here'\n",
      "46 Welcome, click on 'apply here'\n",
      "47 Welcome, click on 'apply here'\n",
      "48 Welcome, click on 'apply here'\n",
      "49 Welcome, click on 'apply here'\n",
      "50 Welcome, click on 'apply here'\n",
      "51 Welcome, click on 'apply here'\n",
      "52 Welcome, click on 'apply here'\n",
      "53 Welcome, click on 'apply here'\n",
      "54 Welcome, click on 'apply here'\n",
      "55 Welcome, click on 'apply here'\n",
      "56 Welcome, click on 'apply here'\n",
      "57 Welcome, click on 'apply here'\n",
      "58 Welcome, click on 'apply here'\n",
      "59 Welcome, click on 'apply here'\n",
      "60 Welcome, click on 'apply here'\n",
      "You are not eligeble for the position.\n",
      "Better Luck Next Time\n"
     ]
    }
   ],
   "source": [
    "age = 1\n",
    "while age <=60: \n",
    "    print( age, \"Welcome, click on 'apply here'\")\n",
    "    age += 1\n",
    "else:\n",
    "    print(\"You are not eligeble for the position.\")\n",
    "    print(\"Better Luck Next Time\")"
   ]
  },
  {
   "cell_type": "code",
   "execution_count": null,
   "id": "802bf174-13ed-4b10-8dfa-3f7cd18ef8f5",
   "metadata": {},
   "outputs": [],
   "source": []
  },
  {
   "cell_type": "code",
   "execution_count": 40,
   "id": "3c6e1742-9653-4b71-aaac-a858093ae748",
   "metadata": {},
   "outputs": [],
   "source": [
    "#2. For loop"
   ]
  },
  {
   "cell_type": "code",
   "execution_count": 42,
   "id": "18fe2536-4bde-4696-b5e0-edd9ed59f1d6",
   "metadata": {},
   "outputs": [],
   "source": [
    "Lst= [23, 45,67,22,1,23,112,567,32,2,4,67]"
   ]
  },
  {
   "cell_type": "code",
   "execution_count": 44,
   "id": "72e20089-0f45-48dd-b721-8f204ab9f719",
   "metadata": {},
   "outputs": [],
   "source": [
    "Lst.sort()"
   ]
  },
  {
   "cell_type": "code",
   "execution_count": 45,
   "id": "5f381f76-407d-4b26-80a5-9a491ce6b301",
   "metadata": {},
   "outputs": [
    {
     "name": "stdout",
     "output_type": "stream",
     "text": [
      "[1, 2, 4, 22, 23, 23, 32, 45, 67, 67, 112, 567]\n"
     ]
    }
   ],
   "source": [
    "print(Lst)"
   ]
  },
  {
   "cell_type": "code",
   "execution_count": 6,
   "id": "2f4d95c8-b260-4e50-a600-255efe5bb89c",
   "metadata": {},
   "outputs": [
    {
     "name": "stdout",
     "output_type": "stream",
     "text": [
      "1 is the 1th element\n",
      "2 is the 2th element\n",
      "4 is the 3th element\n",
      "22 is the 4th element\n",
      "23 is the 5th element\n",
      "23 is the 6th element\n",
      "32 is the 7th element\n",
      "45 is the 8th element\n",
      "67 is the 9th element\n",
      "67 is the 10th element\n",
      "112 is the 11th element\n",
      "567 is the 12th element\n"
     ]
    }
   ],
   "source": [
    "Lst= [23, 45,67,22,1,23,112,567,32,2,4,67]\n",
    "Lst.sort()\n",
    "n=1\n",
    "for i in Lst:\n",
    "        print(f\"{i} is the {n}th element\")\n",
    "        n+=1"
   ]
  },
  {
   "cell_type": "code",
   "execution_count": null,
   "id": "f1b3dd12-feb9-4663-920e-98d8681b5eb3",
   "metadata": {},
   "outputs": [],
   "source": []
  },
  {
   "cell_type": "code",
   "execution_count": 41,
   "id": "984ecf63-34ad-41e3-812f-5175ad5b263e",
   "metadata": {},
   "outputs": [
    {
     "name": "stdout",
     "output_type": "stream",
     "text": [
      "0 is the number\n",
      "1 is the number\n",
      "2 is the number\n",
      "3 is the number\n",
      "4 is the number\n",
      "5 is the number\n",
      "6 is the number\n",
      "7 is the number\n",
      "8 is the number\n",
      "9 is the number\n",
      "10 is the number\n"
     ]
    }
   ],
   "source": [
    "for i in range(0,11):\n",
    "    print(i, \"is the number\")"
   ]
  },
  {
   "cell_type": "code",
   "execution_count": null,
   "id": "3bd33ea6-23bf-4130-9fe5-dfae1e2f2da9",
   "metadata": {},
   "outputs": [],
   "source": []
  },
  {
   "cell_type": "code",
   "execution_count": 7,
   "id": "524559df-69b3-48c5-bc82-8b676d396e4f",
   "metadata": {},
   "outputs": [
    {
     "name": "stdout",
     "output_type": "stream",
     "text": [
      "*\n",
      "**\n",
      "***\n",
      "****\n",
      "*****\n",
      "******\n",
      "*******\n"
     ]
    }
   ],
   "source": [
    "for i in range(1,8):\n",
    "    for j in range(1,i+1):\n",
    "        print(\"*\",end=\"\")\n",
    "    print(\"\\r\")"
   ]
  },
  {
   "cell_type": "code",
   "execution_count": 28,
   "id": "a628da11-f234-4860-9c5e-7dde7e3a46d2",
   "metadata": {},
   "outputs": [
    {
     "name": "stdout",
     "output_type": "stream",
     "text": [
      "*\n",
      "\n",
      "*\n",
      "*\n",
      "\n",
      "*\n",
      "*\n",
      "*\n",
      "\n",
      "*\n",
      "*\n",
      "*\n",
      "*\n",
      "\n",
      "*\n",
      "*\n",
      "*\n",
      "*\n",
      "*\n",
      "\n",
      "*\n",
      "*\n",
      "*\n",
      "*\n",
      "*\n",
      "*\n",
      "\n",
      "*\n",
      "*\n",
      "*\n",
      "*\n",
      "*\n",
      "*\n",
      "*\n",
      "\n"
     ]
    }
   ],
   "source": [
    "for i in range(1,8):\n",
    "    for j in range(1,i+1):\n",
    "        print(\"*\")\n",
    "    print(\"\\r\")"
   ]
  },
  {
   "cell_type": "code",
   "execution_count": 18,
   "id": "28296951-e874-4c99-8e11-dbe428752556",
   "metadata": {},
   "outputs": [
    {
     "name": "stdout",
     "output_type": "stream",
     "text": [
      "  *\n",
      "  *  *\n",
      "  *  *  *\n",
      "  *  *  *  *\n",
      "  *  *  *  *  *\n",
      "  *  *  *  *  *  *\n",
      "  *  *  *  *  *  *  *\n"
     ]
    }
   ],
   "source": [
    "for i in range(1,8):\n",
    "    for j in range(1,i+1):\n",
    "        print(\" \", \"*\",end=\"\")\n",
    "    print(\"\\r\")"
   ]
  },
  {
   "cell_type": "code",
   "execution_count": 29,
   "id": "b8cb3241-4ee5-4162-b709-ded6bc45bb16",
   "metadata": {},
   "outputs": [
    {
     "name": "stdout",
     "output_type": "stream",
     "text": [
      "     * \n",
      "    * * \n",
      "   * * * \n",
      "  * * * * \n",
      " * * * * * \n",
      "* * * * * * \n",
      "* * * * * * * \n"
     ]
    }
   ],
   "source": [
    "n=7\n",
    "for i in range(1,n+1):\n",
    "    for j in range(1,(n-i)):\n",
    "        print(\" \",end=\"\")\n",
    "    for k in range(1,i+1):\n",
    "        print(\"* \",end=\"\")\n",
    "    print(\"\\r\")"
   ]
  },
  {
   "cell_type": "code",
   "execution_count": 30,
   "id": "e643eefd-bc49-4d03-a8bf-ad50a967af03",
   "metadata": {},
   "outputs": [
    {
     "name": "stdout",
     "output_type": "stream",
     "text": [
      "      * \n",
      "     * * \n",
      "    * * * \n",
      "   * * * * \n",
      "  * * * * * \n",
      " * * * * * * \n",
      "* * * * * * * \n"
     ]
    }
   ],
   "source": [
    "n=7\n",
    "for i in range(1,n+1):\n",
    "    for j in range(1,(n+1-i)):\n",
    "        print(\" \",end=\"\")\n",
    "    for k in range(1,i+1):\n",
    "        print(\"* \",end=\"\")\n",
    "    print(\"\\r\")"
   ]
  },
  {
   "cell_type": "code",
   "execution_count": 27,
   "id": "39b73d30-fbac-4a14-8bf3-3a5be8c31c5d",
   "metadata": {},
   "outputs": [
    {
     "name": "stdin",
     "output_type": "stream",
     "text": [
      "input an Intergeral number here 20\n"
     ]
    },
    {
     "name": "stdout",
     "output_type": "stream",
     "text": [
      "                   * \n",
      "                  * * \n",
      "                 * * * \n",
      "                * * * * \n",
      "               * * * * * \n",
      "              * * * * * * \n",
      "             * * * * * * * \n",
      "            * * * * * * * * \n",
      "           * * * * * * * * * \n",
      "          * * * * * * * * * * \n",
      "         * * * * * * * * * * * \n",
      "        * * * * * * * * * * * * \n",
      "       * * * * * * * * * * * * * \n",
      "      * * * * * * * * * * * * * * \n",
      "     * * * * * * * * * * * * * * * \n",
      "    * * * * * * * * * * * * * * * * \n",
      "   * * * * * * * * * * * * * * * * * \n",
      "  * * * * * * * * * * * * * * * * * * \n",
      " * * * * * * * * * * * * * * * * * * * \n",
      "* * * * * * * * * * * * * * * * * * * * \n"
     ]
    }
   ],
   "source": [
    "n=int(input(\"input an Intergeral number here\"))\n",
    "for i in range(1,n+1):\n",
    "    for j in range(1,(n+1-i)):\n",
    "        print(\" \",end=\"\")\n",
    "    for k in range(1,i+1):\n",
    "        print(\"* \",end=\"\")\n",
    "    print(\"\\r\")"
   ]
  },
  {
   "cell_type": "code",
   "execution_count": null,
   "id": "cedcad93-97c2-488c-8691-1b5c75f88345",
   "metadata": {},
   "outputs": [],
   "source": []
  }
 ],
 "metadata": {
  "kernelspec": {
   "display_name": "Python 3 (ipykernel)",
   "language": "python",
   "name": "python3"
  },
  "language_info": {
   "codemirror_mode": {
    "name": "ipython",
    "version": 3
   },
   "file_extension": ".py",
   "mimetype": "text/x-python",
   "name": "python",
   "nbconvert_exporter": "python",
   "pygments_lexer": "ipython3",
   "version": "3.10.8"
  }
 },
 "nbformat": 4,
 "nbformat_minor": 5
}
