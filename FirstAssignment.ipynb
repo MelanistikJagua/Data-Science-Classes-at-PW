{
 "cells": [
  {
   "cell_type": "markdown",
   "id": "bbfeac2a-c4d5-4e7d-b178-76f5f76ddcca",
   "metadata": {},
   "source": [
    "First Assignment"
   ]
  },
  {
   "cell_type": "markdown",
   "id": "f0756432-4d31-4e2e-8b17-e21aeb6d09fd",
   "metadata": {},
   "source": [
    "Q1. Create one variable containing following type of data:\n",
    "\n",
    "(i) String"
   ]
  },
  {
   "cell_type": "code",
   "execution_count": 4,
   "id": "ceac7f19-f637-4278-acb8-eb9ec5c267a5",
   "metadata": {},
   "outputs": [
    {
     "name": "stdout",
     "output_type": "stream",
     "text": [
      "I'm writting my first assignment at PW in Jupiter notebook\n"
     ]
    }
   ],
   "source": [
    "print(\"I'm writting my first assignment at PW in Jupiter notebook\")"
   ]
  },
  {
   "cell_type": "markdown",
   "id": "ad0d1d3e-de31-4b9f-949e-b2270fa8ec64",
   "metadata": {},
   "source": [
    "(ii) List"
   ]
  },
  {
   "cell_type": "code",
   "execution_count": 6,
   "id": "6b6eba22-ade4-4b65-be69-7f284ca38406",
   "metadata": {},
   "outputs": [],
   "source": [
    "a = [\"Biology\", \"Mathematics\", \"Chemistry\", \"Physics\"]"
   ]
  },
  {
   "cell_type": "code",
   "execution_count": 8,
   "id": "eb2c9d19-c68a-47d8-be69-a0cf865c0a00",
   "metadata": {},
   "outputs": [
    {
     "name": "stdout",
     "output_type": "stream",
     "text": [
      "['Biology', 'Mathematics', 'Chemistry', 'Physics']\n"
     ]
    }
   ],
   "source": [
    "print(a)"
   ]
  },
  {
   "cell_type": "markdown",
   "id": "6a25dfa3-e1c2-47f8-9185-d7decfbfda2b",
   "metadata": {},
   "source": [
    "(iii) Float"
   ]
  },
  {
   "cell_type": "code",
   "execution_count": 9,
   "id": "fadab942-110c-4e84-9c5e-fe6f794c3f28",
   "metadata": {},
   "outputs": [],
   "source": [
    "b = 1.004"
   ]
  },
  {
   "cell_type": "code",
   "execution_count": 10,
   "id": "445e3159-f51e-44bd-ad56-e6c9866b669c",
   "metadata": {},
   "outputs": [
    {
     "name": "stdout",
     "output_type": "stream",
     "text": [
      "1.004\n"
     ]
    }
   ],
   "source": [
    "print(b)"
   ]
  },
  {
   "cell_type": "markdown",
   "id": "5889f4e0-cf39-4b73-a1f5-9d679b28310c",
   "metadata": {},
   "source": [
    "(iv) Tuple"
   ]
  },
  {
   "cell_type": "code",
   "execution_count": 2,
   "id": "27e05777-6ad5-4cf5-bc91-3b7975f8f412",
   "metadata": {},
   "outputs": [],
   "source": [
    "c = (\"Apple\", \"Banana\", \"Watermelon\", \"Mango\", 3, 7, [0, 2, 4])"
   ]
  },
  {
   "cell_type": "code",
   "execution_count": 5,
   "id": "59cbaaf6-0894-42fc-a0eb-2c65bdc3aff8",
   "metadata": {},
   "outputs": [
    {
     "name": "stdout",
     "output_type": "stream",
     "text": [
      "('Apple', 'Banana', 'Watermelon', 'Mango', 3, 7, [0, 2, 4])\n"
     ]
    }
   ],
   "source": [
    "print(c)"
   ]
  },
  {
   "cell_type": "markdown",
   "id": "9b61d2ea-624e-4232-81a2-7a5af8f18ef8",
   "metadata": {},
   "source": [
    "Q2. Given are some following variables containing data:"
   ]
  },
  {
   "cell_type": "markdown",
   "id": "aed33ff5-42fb-46f2-bf09-21c39d6384ad",
   "metadata": {},
   "source": [
    "(i) var1 = ''"
   ]
  },
  {
   "cell_type": "code",
   "execution_count": 7,
   "id": "53b0f0ab-2dc9-4f78-af9e-c27dc59a23eb",
   "metadata": {},
   "outputs": [],
   "source": [
    "var1 = ''"
   ]
  },
  {
   "cell_type": "code",
   "execution_count": 8,
   "id": "39190163-45ed-4a57-b2cc-e1382e8fbf43",
   "metadata": {},
   "outputs": [
    {
     "data": {
      "text/plain": [
       "str"
      ]
     },
     "execution_count": 8,
     "metadata": {},
     "output_type": "execute_result"
    }
   ],
   "source": [
    "type(var1)"
   ]
  },
  {
   "cell_type": "markdown",
   "id": "2bb3e2c1-4138-4f5a-a69a-709d60ed3273",
   "metadata": {},
   "source": [
    "(ii) var2 = '[DS, ML, Python]'"
   ]
  },
  {
   "cell_type": "code",
   "execution_count": 9,
   "id": "2540b53e-535b-40df-99b7-38bc82dc7a79",
   "metadata": {},
   "outputs": [],
   "source": [
    "var2 = '[DS, ML, Python]'"
   ]
  },
  {
   "cell_type": "code",
   "execution_count": 10,
   "id": "7700c2ee-fade-4b65-be5a-aea5a29029b9",
   "metadata": {},
   "outputs": [
    {
     "data": {
      "text/plain": [
       "str"
      ]
     },
     "execution_count": 10,
     "metadata": {},
     "output_type": "execute_result"
    }
   ],
   "source": [
    "type(var2)"
   ]
  },
  {
   "cell_type": "markdown",
   "id": "ebc63174-3865-483e-bb97-54b7f99dd058",
   "metadata": {},
   "source": [
    "(iii) var3 = ['DS', 'ML', 'Python']"
   ]
  },
  {
   "cell_type": "code",
   "execution_count": 11,
   "id": "a8f8fcd1-ed44-40cd-92b6-7ec2fcc10208",
   "metadata": {},
   "outputs": [],
   "source": [
    "var3 = ['DS', 'ML', 'Python']"
   ]
  },
  {
   "cell_type": "code",
   "execution_count": 12,
   "id": "ef9e5262-7041-4db5-a5a9-6eeaeb603f6f",
   "metadata": {},
   "outputs": [
    {
     "data": {
      "text/plain": [
       "list"
      ]
     },
     "execution_count": 12,
     "metadata": {},
     "output_type": "execute_result"
    }
   ],
   "source": [
    "type(var3)"
   ]
  },
  {
   "cell_type": "markdown",
   "id": "175a246f-7aa8-4cb5-a605-a481eceec1d3",
   "metadata": {},
   "source": [
    "(iv) var4 = 1."
   ]
  },
  {
   "cell_type": "code",
   "execution_count": 14,
   "id": "015f83b9-5685-464d-be13-23ed6bb675f6",
   "metadata": {},
   "outputs": [],
   "source": [
    "var4 = 1."
   ]
  },
  {
   "cell_type": "code",
   "execution_count": 15,
   "id": "166a019c-c2c1-4bd7-b248-87daca79ea97",
   "metadata": {},
   "outputs": [
    {
     "data": {
      "text/plain": [
       "float"
      ]
     },
     "execution_count": 15,
     "metadata": {},
     "output_type": "execute_result"
    }
   ],
   "source": [
    "type(var4)"
   ]
  },
  {
   "cell_type": "code",
   "execution_count": 16,
   "id": "480c1ad4-e574-41ea-8222-2f20320e43b0",
   "metadata": {},
   "outputs": [],
   "source": [
    "var5 = 1"
   ]
  },
  {
   "cell_type": "code",
   "execution_count": 17,
   "id": "cc940f47-bf6c-477a-b40e-a7fae7d12f77",
   "metadata": {},
   "outputs": [
    {
     "data": {
      "text/plain": [
       "int"
      ]
     },
     "execution_count": 17,
     "metadata": {},
     "output_type": "execute_result"
    }
   ],
   "source": [
    "type(var5)"
   ]
  },
  {
   "cell_type": "markdown",
   "id": "c8600139-3d7c-4e8a-b591-a4895c4c0308",
   "metadata": {},
   "source": [
    "Q3. Explain the use of following operators using examples:"
   ]
  },
  {
   "cell_type": "markdown",
   "id": "5de15347-b3ae-4498-94f6-f64d9e25131c",
   "metadata": {},
   "source": [
    "(i) /"
   ]
  },
  {
   "cell_type": "code",
   "execution_count": 18,
   "id": "0093b111-c77c-411b-879c-101b9566096b",
   "metadata": {},
   "outputs": [
    {
     "data": {
      "text/plain": [
       "4.0"
      ]
     },
     "execution_count": 18,
     "metadata": {},
     "output_type": "execute_result"
    }
   ],
   "source": [
    "8/2"
   ]
  },
  {
   "cell_type": "code",
   "execution_count": 21,
   "id": "dd1ea1b0-4da5-415c-9389-30bc628a5225",
   "metadata": {},
   "outputs": [],
   "source": [
    "#Division Operator: performs division"
   ]
  },
  {
   "cell_type": "markdown",
   "id": "318f5b53-e42a-488f-9bf0-a0118b28915b",
   "metadata": {},
   "source": [
    "(ii) %"
   ]
  },
  {
   "cell_type": "code",
   "execution_count": 19,
   "id": "84d2785a-0d30-45fc-aa71-903f0269221c",
   "metadata": {},
   "outputs": [
    {
     "data": {
      "text/plain": [
       "1"
      ]
     },
     "execution_count": 19,
     "metadata": {},
     "output_type": "execute_result"
    }
   ],
   "source": [
    "7%3"
   ]
  },
  {
   "cell_type": "code",
   "execution_count": 29,
   "id": "7a0e1da8-d147-4a11-84ea-3e622a0314f9",
   "metadata": {},
   "outputs": [],
   "source": [
    "# It provides us the Remainder when the preceeding number is divided by the succeeding number"
   ]
  },
  {
   "cell_type": "markdown",
   "id": "f8db189b-7ded-4666-8fec-1259bcd2acbd",
   "metadata": {},
   "source": [
    "(iii) //"
   ]
  },
  {
   "cell_type": "code",
   "execution_count": 23,
   "id": "1e036f40-e46a-49c7-a7d0-907a13a915dd",
   "metadata": {},
   "outputs": [
    {
     "data": {
      "text/plain": [
       "4"
      ]
     },
     "execution_count": 23,
     "metadata": {},
     "output_type": "execute_result"
    }
   ],
   "source": [
    "9//2"
   ]
  },
  {
   "cell_type": "code",
   "execution_count": 26,
   "id": "c13d96d8-1a3d-4257-8e4d-e40f703fc188",
   "metadata": {},
   "outputs": [
    {
     "data": {
      "text/plain": [
       "1"
      ]
     },
     "execution_count": 26,
     "metadata": {},
     "output_type": "execute_result"
    }
   ],
   "source": [
    "7//4"
   ]
  },
  {
   "cell_type": "code",
   "execution_count": 28,
   "id": "aba8fc8e-7418-4ca7-b12a-0060c2377249",
   "metadata": {},
   "outputs": [],
   "source": [
    "# It provides us with the quotient of the division of the two numbers. "
   ]
  },
  {
   "cell_type": "markdown",
   "id": "ca5ad452-58b1-4a5e-a9df-70ca0051ad8c",
   "metadata": {},
   "source": [
    "(iv) **"
   ]
  },
  {
   "cell_type": "code",
   "execution_count": 30,
   "id": "85cc125e-f8df-4946-aa12-44925ee7f0d0",
   "metadata": {},
   "outputs": [
    {
     "data": {
      "text/plain": [
       "9"
      ]
     },
     "execution_count": 30,
     "metadata": {},
     "output_type": "execute_result"
    }
   ],
   "source": [
    "3**2"
   ]
  },
  {
   "cell_type": "code",
   "execution_count": 31,
   "id": "11ac6906-0f8f-482d-baf8-d3efa09bf10f",
   "metadata": {},
   "outputs": [
    {
     "data": {
      "text/plain": [
       "512"
      ]
     },
     "execution_count": 31,
     "metadata": {},
     "output_type": "execute_result"
    }
   ],
   "source": [
    "8**3"
   ]
  },
  {
   "cell_type": "code",
   "execution_count": 32,
   "id": "816e2a9a-4d1d-4aa4-91a9-f69e74e4b92a",
   "metadata": {},
   "outputs": [],
   "source": [
    "# It implies that the succeeding number is the index/power of the preceding number."
   ]
  },
  {
   "cell_type": "markdown",
   "id": "095043df-4d75-4044-a17d-284d819cd7ab",
   "metadata": {},
   "source": [
    "Q4. Create a list of length 10 of your choice containing multiple types of data. Using for loop, print the elements and there data type."
   ]
  },
  {
   "cell_type": "code",
   "execution_count": 33,
   "id": "cf6998bb-945e-405f-a5dd-9166fae49805",
   "metadata": {},
   "outputs": [],
   "source": [
    "List_10 = ['Bag', 'B', 25, 4.606, 'K-9', [1,2,3], ['z1', 'z2', 'z3', 'z4'], 'Good Job', ('t1', 't2', 4, 5), '@#$']"
   ]
  },
  {
   "cell_type": "code",
   "execution_count": 41,
   "id": "17f25e37-2d7e-4bec-bdde-d70868cbcbaf",
   "metadata": {},
   "outputs": [
    {
     "name": "stdout",
     "output_type": "stream",
     "text": [
      "Bag\n",
      "<class 'str'>\n",
      "B\n",
      "<class 'str'>\n",
      "25\n",
      "<class 'int'>\n",
      "4.606\n",
      "<class 'float'>\n",
      "K-9\n",
      "<class 'str'>\n",
      "[1, 2, 3]\n",
      "<class 'list'>\n",
      "['z1', 'z2', 'z3', 'z4']\n",
      "<class 'list'>\n",
      "Good Job\n",
      "<class 'str'>\n",
      "('t1', 't2', 4, 5)\n",
      "<class 'tuple'>\n",
      "@#$\n",
      "<class 'str'>\n"
     ]
    }
   ],
   "source": [
    "for i in List_10:\n",
    "    print(i)\n",
    "    print(type(i))\n",
    "    "
   ]
  },
  {
   "cell_type": "markdown",
   "id": "c99b94fc-ba62-4e84-afed-6d6017b82412",
   "metadata": {},
   "source": [
    "Q5. Using a while loop, verify if the number A is purely divisible by number B and if so how many times it can be divisible."
   ]
  },
  {
   "cell_type": "code",
   "execution_count": 46,
   "id": "ac500a69-2aba-45f7-85ca-e0a0c2d63772",
   "metadata": {},
   "outputs": [
    {
     "name": "stdin",
     "output_type": "stream",
     "text": [
      "Enter an integer 125\n"
     ]
    }
   ],
   "source": [
    "A = int(input(\"Enter an integer\"))"
   ]
  },
  {
   "cell_type": "code",
   "execution_count": null,
   "id": "f1140f29-7791-4151-8ecf-84bb72bf24ae",
   "metadata": {},
   "outputs": [
    {
     "name": "stdin",
     "output_type": "stream",
     "text": [
      "Enter another integer 5\n"
     ]
    }
   ],
   "source": [
    "B = int(input(\"Enter another integer\"))"
   ]
  },
  {
   "cell_type": "code",
   "execution_count": 52,
   "id": "36b8eaca-8b4b-444c-9370-533ee5368ed5",
   "metadata": {},
   "outputs": [
    {
     "name": "stdout",
     "output_type": "stream",
     "text": [
      "A is purely divisible by B. It divides A exactly 25 times.\n"
     ]
    }
   ],
   "source": [
    "while A%B == 0:\n",
    "    print('A is purely divisible by B.', 'It divides A exactly', A//B, 'times.' )\n",
    "    break\n",
    "else:\n",
    "    print( 'A is not completely divisible by B.')"
   ]
  },
  {
   "cell_type": "markdown",
   "id": "c7b8b615-c47a-42f6-9a35-b34454b50647",
   "metadata": {},
   "source": [
    "Q6. Create a list containing 25 int type data. Uisng for loop and if-else condition print if the element is divisible by 3 or not."
   ]
  },
  {
   "cell_type": "code",
   "execution_count": 53,
   "id": "66124eda-2493-40b0-8cde-8485c91fc450",
   "metadata": {},
   "outputs": [],
   "source": [
    "List_25 = [1, 2, 3, 4, 5, 6, 7, 8, 9, 10, 11, 12, 13, 14, 15, 16, 17, 18, 19, 20, 21, 22, 23, 24, 25]"
   ]
  },
  {
   "cell_type": "code",
   "execution_count": 57,
   "id": "3e229a31-9849-437c-ab43-91498c2ce23e",
   "metadata": {},
   "outputs": [
    {
     "name": "stdout",
     "output_type": "stream",
     "text": [
      "1 is not divisible by 3\n",
      "2 is not divisible by 3\n",
      "3 is divisible by 3\n",
      "4 is not divisible by 3\n",
      "5 is not divisible by 3\n",
      "6 is divisible by 3\n",
      "7 is not divisible by 3\n",
      "8 is not divisible by 3\n",
      "9 is divisible by 3\n",
      "10 is not divisible by 3\n",
      "11 is not divisible by 3\n",
      "12 is divisible by 3\n",
      "13 is not divisible by 3\n",
      "14 is not divisible by 3\n",
      "15 is divisible by 3\n",
      "16 is not divisible by 3\n",
      "17 is not divisible by 3\n",
      "18 is divisible by 3\n",
      "19 is not divisible by 3\n",
      "20 is not divisible by 3\n",
      "21 is divisible by 3\n",
      "22 is not divisible by 3\n",
      "23 is not divisible by 3\n",
      "24 is divisible by 3\n",
      "25 is not divisible by 3\n"
     ]
    }
   ],
   "source": [
    "for i in List_25:\n",
    "    if i%3 == 0:\n",
    "        print(i,'is divisible by 3')\n",
    "    else:\n",
    "        print(i, 'is not divisible by 3')"
   ]
  },
  {
   "cell_type": "markdown",
   "id": "8fae0327-a61a-46b0-b4ec-faf5d8ed8829",
   "metadata": {},
   "source": [
    "Q7. What do you unerstand about mutable and immutable data types? Give examples for both showing this property."
   ]
  },
  {
   "cell_type": "code",
   "execution_count": 58,
   "id": "6a252e81-cbd8-4549-ae0f-3fd85cd800de",
   "metadata": {},
   "outputs": [],
   "source": [
    "# Mutatble data types can be altered while Immutable ones can't be changed. "
   ]
  },
  {
   "cell_type": "code",
   "execution_count": 64,
   "id": "4e69a29e-8999-47ba-a34c-46eb570e73ae",
   "metadata": {},
   "outputs": [],
   "source": [
    "List_4 = ['Dog', 'Cat', 'Mouse', 'Human']"
   ]
  },
  {
   "cell_type": "code",
   "execution_count": 65,
   "id": "b355f20b-729e-4259-acb3-774b6e364966",
   "metadata": {},
   "outputs": [
    {
     "name": "stdout",
     "output_type": "stream",
     "text": [
      "['Dog', 'Cat', 'Mouse', 'Human']\n"
     ]
    }
   ],
   "source": [
    "print(List_4)"
   ]
  },
  {
   "cell_type": "code",
   "execution_count": 67,
   "id": "05aecbcb-bc0d-43aa-8faf-8990a19d4089",
   "metadata": {},
   "outputs": [],
   "source": [
    "List_4[3] = 'Bird'"
   ]
  },
  {
   "cell_type": "code",
   "execution_count": 68,
   "id": "ad8dce70-f503-4dd0-b00d-e09b15cd989d",
   "metadata": {},
   "outputs": [
    {
     "name": "stdout",
     "output_type": "stream",
     "text": [
      "['Dog', 'Cat', 'Mouse', 'Bird']\n"
     ]
    }
   ],
   "source": [
    "print(List_4)"
   ]
  },
  {
   "cell_type": "code",
   "execution_count": 70,
   "id": "ed0927ae-c293-40b7-8eb9-8c3e6db52d80",
   "metadata": {},
   "outputs": [],
   "source": [
    "# A list is muatble but a tuple is immutable."
   ]
  },
  {
   "cell_type": "code",
   "execution_count": 71,
   "id": "129ffa32-2c8f-42cd-959f-feb06b79f885",
   "metadata": {},
   "outputs": [],
   "source": [
    "tup_4 = ('Dog', 'Cat', 'Mouse', 'Human')"
   ]
  },
  {
   "cell_type": "code",
   "execution_count": 73,
   "id": "6e6a8fd8-adc2-48d1-9760-13ba5f59d537",
   "metadata": {},
   "outputs": [
    {
     "ename": "TypeError",
     "evalue": "'tuple' object does not support item assignment",
     "output_type": "error",
     "traceback": [
      "\u001b[0;31m---------------------------------------------------------------------------\u001b[0m",
      "\u001b[0;31mTypeError\u001b[0m                                 Traceback (most recent call last)",
      "Cell \u001b[0;32mIn[73], line 1\u001b[0m\n\u001b[0;32m----> 1\u001b[0m \u001b[43mtup_4\u001b[49m\u001b[43m[\u001b[49m\u001b[38;5;241;43m3\u001b[39;49m\u001b[43m]\u001b[49m \u001b[38;5;241m=\u001b[39m \u001b[38;5;124m'\u001b[39m\u001b[38;5;124mBird\u001b[39m\u001b[38;5;124m'\u001b[39m\n",
      "\u001b[0;31mTypeError\u001b[0m: 'tuple' object does not support item assignment"
     ]
    }
   ],
   "source": [
    "tup_4[3] = 'Bird'"
   ]
  },
  {
   "cell_type": "code",
   "execution_count": 77,
   "id": "2d8db376-0c82-4472-a9c4-e70031ddb427",
   "metadata": {},
   "outputs": [],
   "source": [
    "# It is giving us Error which means elements of a tuple can't be changed. Hence, it is immutable."
   ]
  },
  {
   "cell_type": "code",
   "execution_count": null,
   "id": "ca59b65f-c840-44c0-8a66-35bb538a62bd",
   "metadata": {},
   "outputs": [],
   "source": []
  }
 ],
 "metadata": {
  "kernelspec": {
   "display_name": "Python 3 (ipykernel)",
   "language": "python",
   "name": "python3"
  },
  "language_info": {
   "codemirror_mode": {
    "name": "ipython",
    "version": 3
   },
   "file_extension": ".py",
   "mimetype": "text/x-python",
   "name": "python",
   "nbconvert_exporter": "python",
   "pygments_lexer": "ipython3",
   "version": "3.10.8"
  }
 },
 "nbformat": 4,
 "nbformat_minor": 5
}
