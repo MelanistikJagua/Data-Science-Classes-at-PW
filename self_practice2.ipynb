{
 "cells": [
  {
   "cell_type": "markdown",
   "id": "9b49d4a6-a298-4eae-ac04-2a104cd04de1",
   "metadata": {},
   "source": [
    "# print"
   ]
  },
  {
   "cell_type": "code",
   "execution_count": 2,
   "id": "be4033f7-b68f-4606-86f0-be78a046b791",
   "metadata": {},
   "outputs": [],
   "source": [
    "name= 'Sajan'\n",
    "age= 34\n",
    "Degree= 'MS'"
   ]
  },
  {
   "cell_type": "code",
   "execution_count": 17,
   "id": "64b93ab8-5f41-4281-b796-51ec5616aca5",
   "metadata": {},
   "outputs": [
    {
     "name": "stdout",
     "output_type": "stream",
     "text": [
      "My name is Sajan My age is 34 and I have MS degree in Life science\n"
     ]
    }
   ],
   "source": [
    "print('My name is', name,'My age is', age, 'and I have', Degree, \"degree in Life science\")"
   ]
  },
  {
   "cell_type": "code",
   "execution_count": 5,
   "id": "6bbf3c0e-011b-48d4-9c5e-73ccfb13f62f",
   "metadata": {},
   "outputs": [
    {
     "name": "stdout",
     "output_type": "stream",
     "text": [
      " My name is Sajan, My age is 34 and I have MS degree in Life science\n"
     ]
    }
   ],
   "source": [
    "print(f\" My name is {name}, My age is {age} and I have {Degree} degree in Life science\")"
   ]
  },
  {
   "cell_type": "code",
   "execution_count": 7,
   "id": "070274e7-4fe0-45da-9c3a-7c9498fe46ec",
   "metadata": {},
   "outputs": [
    {
     "name": "stdout",
     "output_type": "stream",
     "text": [
      " My name is Sajan, My age is 34 and I have MS degree in Life science\n"
     ]
    }
   ],
   "source": [
    "print(\" My name is {}, My age is {} and I have {} degree in Life science\".format(name, age, Degree))"
   ]
  },
  {
   "cell_type": "code",
   "execution_count": 19,
   "id": "b6c78bcb-5f42-418a-8456-e6d9442f5a6d",
   "metadata": {},
   "outputs": [
    {
     "name": "stdout",
     "output_type": "stream",
     "text": [
      " My name is Sajan, My age is 34 and I have MS degree in Life science\n"
     ]
    }
   ],
   "source": [
    "print(\" My name is {Firstname}, My age is {firstage} and I have {firstdegree} degree in Life science\".format(Firstname=name, firstage=age, firstdegree=Degree))"
   ]
  },
  {
   "cell_type": "code",
   "execution_count": null,
   "id": "85f9281f-404e-45eb-afd3-ef4362086650",
   "metadata": {},
   "outputs": [],
   "source": []
  },
  {
   "cell_type": "code",
   "execution_count": null,
   "id": "471fe420-4e35-4fe5-afa7-f6bfb3b4ec9c",
   "metadata": {},
   "outputs": [],
   "source": []
  },
  {
   "cell_type": "markdown",
   "id": "59581839-893e-4f6e-81b7-600ada31ba1e",
   "metadata": {},
   "source": [
    "# if else"
   ]
  },
  {
   "cell_type": "code",
   "execution_count": 2,
   "id": "fb3856cf-b8dd-4b29-872c-1d44c2fcae2c",
   "metadata": {},
   "outputs": [
    {
     "name": "stdin",
     "output_type": "stream",
     "text": [
      "Enter the product price:  300\n"
     ]
    }
   ],
   "source": [
    "Price = int(input(\"Enter the product price: \"))"
   ]
  },
  {
   "cell_type": "code",
   "execution_count": 9,
   "id": "12230bce-13f5-4d95-80ec-6471451f82bf",
   "metadata": {},
   "outputs": [
    {
     "name": "stdin",
     "output_type": "stream",
     "text": [
      "Enter the product price:  3000\n"
     ]
    },
    {
     "name": "stdout",
     "output_type": "stream",
     "text": [
      "Offer price is 2400.0\n"
     ]
    }
   ],
   "source": [
    "Price = int(input(\"Enter the product price: \"))\n",
    "if Price >= 1000:\n",
    "    print(f\"Offer price is {Price*0.8}\")\n",
    "else:\n",
    "    print(f\"Offer price is {Price*0.7}\")"
   ]
  },
  {
   "cell_type": "code",
   "execution_count": null,
   "id": "06e313e4-acea-493d-99c2-ad3ac5a604f8",
   "metadata": {},
   "outputs": [],
   "source": []
  },
  {
   "cell_type": "code",
   "execution_count": 9,
   "id": "774e7de6-106c-41f1-aec4-acc465ad99c6",
   "metadata": {},
   "outputs": [
    {
     "name": "stdin",
     "output_type": "stream",
     "text": [
      "Enter the price here:  2500\n"
     ]
    },
    {
     "name": "stdout",
     "output_type": "stream",
     "text": [
      "The offer price after 30% discount is: 1750.0\n"
     ]
    }
   ],
   "source": [
    "Price= int(input(\"Enter the price here: \"))\n",
    "if Price > 3000:\n",
    "    print(\"The offer price after 20% discount is: {}\".format(Price*0.8))\n",
    "elif Price <= 3000 and Price > 2000:\n",
    "    print(\"The offer price after 30% discount is: {}\".format(Price*0.7))\n",
    "elif Price <=2000 and Price >1000:\n",
    "    print(\"The offer price after 40% discount is: {}\".format(Price*0.6))\n",
    "else:\n",
    "    print(\"The offer price after 50% discount is: {}\".format(Price*.5))"
   ]
  },
  {
   "cell_type": "code",
   "execution_count": null,
   "id": "d5cee226-0c2f-49f9-84e8-0fa68d8d84d6",
   "metadata": {},
   "outputs": [],
   "source": []
  }
 ],
 "metadata": {
  "kernelspec": {
   "display_name": "Python 3 (ipykernel)",
   "language": "python",
   "name": "python3"
  },
  "language_info": {
   "codemirror_mode": {
    "name": "ipython",
    "version": 3
   },
   "file_extension": ".py",
   "mimetype": "text/x-python",
   "name": "python",
   "nbconvert_exporter": "python",
   "pygments_lexer": "ipython3",
   "version": "3.10.8"
  }
 },
 "nbformat": 4,
 "nbformat_minor": 5
}
