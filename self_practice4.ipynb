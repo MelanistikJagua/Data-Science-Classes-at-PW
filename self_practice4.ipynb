{
 "cells": [
  {
   "cell_type": "markdown",
   "id": "99ffcc19-9a69-41df-99f5-73636ba558b9",
   "metadata": {},
   "source": [
    "# Strings"
   ]
  },
  {
   "cell_type": "code",
   "execution_count": 10,
   "id": "a6a43145-dfd4-4788-a170-ab1559e6d7a7",
   "metadata": {},
   "outputs": [],
   "source": [
    "name1='SajanGupta'"
   ]
  },
  {
   "cell_type": "code",
   "execution_count": 3,
   "id": "ae2b01dc-112b-4a7f-a6be-7604a4557b70",
   "metadata": {},
   "outputs": [
    {
     "data": {
      "text/plain": [
       "'S'"
      ]
     },
     "execution_count": 3,
     "metadata": {},
     "output_type": "execute_result"
    }
   ],
   "source": [
    "name1[0]"
   ]
  },
  {
   "cell_type": "code",
   "execution_count": 4,
   "id": "2dc8d312-140a-4386-ae63-73f93c2d862a",
   "metadata": {},
   "outputs": [
    {
     "ename": "TypeError",
     "evalue": "string indices must be integers",
     "output_type": "error",
     "traceback": [
      "\u001b[0;31m---------------------------------------------------------------------------\u001b[0m",
      "\u001b[0;31mTypeError\u001b[0m                                 Traceback (most recent call last)",
      "Cell \u001b[0;32mIn[4], line 1\u001b[0m\n\u001b[0;32m----> 1\u001b[0m \u001b[43mname1\u001b[49m\u001b[43m[\u001b[49m\u001b[38;5;241;43m2\u001b[39;49m\u001b[43m,\u001b[49m\u001b[38;5;241;43m3\u001b[39;49m\u001b[43m]\u001b[49m\n",
      "\u001b[0;31mTypeError\u001b[0m: string indices must be integers"
     ]
    }
   ],
   "source": [
    "name1[2,3]"
   ]
  },
  {
   "cell_type": "code",
   "execution_count": 5,
   "id": "9fec915c-5114-4a9d-8830-8e6e0d122778",
   "metadata": {},
   "outputs": [
    {
     "data": {
      "text/plain": [
       "'j'"
      ]
     },
     "execution_count": 5,
     "metadata": {},
     "output_type": "execute_result"
    }
   ],
   "source": [
    "name1[2:3]"
   ]
  },
  {
   "cell_type": "code",
   "execution_count": 6,
   "id": "33695b17-f013-4ef2-8796-28040a0e33b9",
   "metadata": {},
   "outputs": [
    {
     "data": {
      "text/plain": [
       "'janGu'"
      ]
     },
     "execution_count": 6,
     "metadata": {},
     "output_type": "execute_result"
    }
   ],
   "source": [
    "name1[2:7]"
   ]
  },
  {
   "cell_type": "code",
   "execution_count": 7,
   "id": "281dbd01-cf3b-499b-9396-36733e2260a6",
   "metadata": {},
   "outputs": [
    {
     "ename": "SyntaxError",
     "evalue": "invalid syntax (3308434792.py, line 1)",
     "output_type": "error",
     "traceback": [
      "\u001b[0;36m  Cell \u001b[0;32mIn[7], line 1\u001b[0;36m\u001b[0m\n\u001b[0;31m    name[]\u001b[0m\n\u001b[0m         ^\u001b[0m\n\u001b[0;31mSyntaxError\u001b[0m\u001b[0;31m:\u001b[0m invalid syntax\n"
     ]
    }
   ],
   "source": [
    "name[]"
   ]
  },
  {
   "cell_type": "code",
   "execution_count": 8,
   "id": "0b1225a8-0bc5-4ac3-af11-c9dfcd4fefdc",
   "metadata": {},
   "outputs": [
    {
     "ename": "NameError",
     "evalue": "name 'name' is not defined",
     "output_type": "error",
     "traceback": [
      "\u001b[0;31m---------------------------------------------------------------------------\u001b[0m",
      "\u001b[0;31mNameError\u001b[0m                                 Traceback (most recent call last)",
      "Cell \u001b[0;32mIn[8], line 1\u001b[0m\n\u001b[0;32m----> 1\u001b[0m \u001b[43mname\u001b[49m[:]\n",
      "\u001b[0;31mNameError\u001b[0m: name 'name' is not defined"
     ]
    }
   ],
   "source": [
    "name[:]"
   ]
  },
  {
   "cell_type": "code",
   "execution_count": 13,
   "id": "d7ce61a1-9cc2-47d9-b3e1-acccdbc23ab3",
   "metadata": {},
   "outputs": [],
   "source": [
    "name='SajanGupta'"
   ]
  },
  {
   "cell_type": "code",
   "execution_count": 14,
   "id": "38ed4c43-f5ac-416c-8165-1579de7fb1a8",
   "metadata": {},
   "outputs": [
    {
     "ename": "SyntaxError",
     "evalue": "invalid syntax (3308434792.py, line 1)",
     "output_type": "error",
     "traceback": [
      "\u001b[0;36m  Cell \u001b[0;32mIn[14], line 1\u001b[0;36m\u001b[0m\n\u001b[0;31m    name[]\u001b[0m\n\u001b[0m         ^\u001b[0m\n\u001b[0;31mSyntaxError\u001b[0m\u001b[0;31m:\u001b[0m invalid syntax\n"
     ]
    }
   ],
   "source": [
    "name[]"
   ]
  },
  {
   "cell_type": "code",
   "execution_count": 15,
   "id": "470009f9-1d98-4dee-bb31-86fe607f6b1c",
   "metadata": {},
   "outputs": [
    {
     "data": {
      "text/plain": [
       "'SajanGupta'"
      ]
     },
     "execution_count": 15,
     "metadata": {},
     "output_type": "execute_result"
    }
   ],
   "source": [
    "name[:]"
   ]
  },
  {
   "cell_type": "code",
   "execution_count": 16,
   "id": "c7ca2dc8-137e-44aa-9df4-a02da9b8cfd8",
   "metadata": {},
   "outputs": [
    {
     "name": "stdout",
     "output_type": "stream",
     "text": [
      "SajanGupta\n"
     ]
    }
   ],
   "source": [
    "print(name)"
   ]
  },
  {
   "cell_type": "code",
   "execution_count": 17,
   "id": "f99787ea-c0ab-4c1b-8edf-7c060bb6ea12",
   "metadata": {},
   "outputs": [
    {
     "data": {
      "text/plain": [
       "'SajanGupta'"
      ]
     },
     "execution_count": 17,
     "metadata": {},
     "output_type": "execute_result"
    }
   ],
   "source": [
    "name[::1]"
   ]
  },
  {
   "cell_type": "code",
   "execution_count": 18,
   "id": "6205dc12-543d-42c9-9a5b-ddfafa4bc8b7",
   "metadata": {},
   "outputs": [
    {
     "data": {
      "text/plain": [
       "'Sjnut'"
      ]
     },
     "execution_count": 18,
     "metadata": {},
     "output_type": "execute_result"
    }
   ],
   "source": [
    "name[::2]"
   ]
  },
  {
   "cell_type": "code",
   "execution_count": 19,
   "id": "be5ebaf9-f2f4-4c28-a09a-0f69495a97f9",
   "metadata": {},
   "outputs": [
    {
     "data": {
      "text/plain": [
       "'ajanGup'"
      ]
     },
     "execution_count": 19,
     "metadata": {},
     "output_type": "execute_result"
    }
   ],
   "source": [
    "name[1:8]"
   ]
  },
  {
   "cell_type": "code",
   "execution_count": 20,
   "id": "777bedd1-58b9-44f6-976c-3074c4a4cdaf",
   "metadata": {},
   "outputs": [
    {
     "data": {
      "text/plain": [
       "'aaGp'"
      ]
     },
     "execution_count": 20,
     "metadata": {},
     "output_type": "execute_result"
    }
   ],
   "source": [
    "name[1:8:2]"
   ]
  },
  {
   "cell_type": "code",
   "execution_count": 21,
   "id": "2e503634-ac09-4b5a-94ce-88bc980ec727",
   "metadata": {},
   "outputs": [
    {
     "data": {
      "text/plain": [
       "'Sjnu'"
      ]
     },
     "execution_count": 21,
     "metadata": {},
     "output_type": "execute_result"
    }
   ],
   "source": [
    "name[0:8:2]"
   ]
  },
  {
   "cell_type": "code",
   "execution_count": 22,
   "id": "c4d37347-4622-4838-9499-7fec59efb8fb",
   "metadata": {},
   "outputs": [
    {
     "data": {
      "text/plain": [
       "'atpuGnajaS'"
      ]
     },
     "execution_count": 22,
     "metadata": {},
     "output_type": "execute_result"
    }
   ],
   "source": [
    "name[::-1]"
   ]
  },
  {
   "cell_type": "code",
   "execution_count": 23,
   "id": "114e244f-6d73-4230-ae61-d1a215c7e9dd",
   "metadata": {},
   "outputs": [
    {
     "data": {
      "text/plain": [
       "''"
      ]
     },
     "execution_count": 23,
     "metadata": {},
     "output_type": "execute_result"
    }
   ],
   "source": [
    "name[-1:-6]"
   ]
  },
  {
   "cell_type": "code",
   "execution_count": 24,
   "id": "87cffa10-7a69-4acc-aa17-c1a54425ea35",
   "metadata": {},
   "outputs": [
    {
     "data": {
      "text/plain": [
       "'nGupt'"
      ]
     },
     "execution_count": 24,
     "metadata": {},
     "output_type": "execute_result"
    }
   ],
   "source": [
    "name[-6:-1]"
   ]
  },
  {
   "cell_type": "code",
   "execution_count": 25,
   "id": "6a901520-ec19-4495-97d9-81be157bbf6b",
   "metadata": {},
   "outputs": [
    {
     "data": {
      "text/plain": [
       "'nut'"
      ]
     },
     "execution_count": 25,
     "metadata": {},
     "output_type": "execute_result"
    }
   ],
   "source": [
    "name[-6:-1:2]"
   ]
  },
  {
   "cell_type": "code",
   "execution_count": 26,
   "id": "db7e58d1-30c0-4f6a-9de6-305a4a0e5610",
   "metadata": {},
   "outputs": [
    {
     "data": {
      "text/plain": [
       "''"
      ]
     },
     "execution_count": 26,
     "metadata": {},
     "output_type": "execute_result"
    }
   ],
   "source": [
    "name[-6:-1:-1]"
   ]
  },
  {
   "cell_type": "code",
   "execution_count": 27,
   "id": "84314371-a273-4f5e-88a1-e1b30b737baa",
   "metadata": {},
   "outputs": [
    {
     "data": {
      "text/plain": [
       "''"
      ]
     },
     "execution_count": 27,
     "metadata": {},
     "output_type": "execute_result"
    }
   ],
   "source": [
    "name[-6:-1:-2]"
   ]
  },
  {
   "cell_type": "code",
   "execution_count": 28,
   "id": "405e888c-0743-44e8-898e-d375cd2a4e34",
   "metadata": {},
   "outputs": [
    {
     "data": {
      "text/plain": [
       "'nGupt'"
      ]
     },
     "execution_count": 28,
     "metadata": {},
     "output_type": "execute_result"
    }
   ],
   "source": [
    "name[-6:-1]"
   ]
  },
  {
   "cell_type": "code",
   "execution_count": 29,
   "id": "9fe6fb95-a217-4179-8b2c-97382aa022f5",
   "metadata": {},
   "outputs": [
    {
     "data": {
      "text/plain": [
       "'np'"
      ]
     },
     "execution_count": 29,
     "metadata": {},
     "output_type": "execute_result"
    }
   ],
   "source": [
    "name[-6:-1:3]"
   ]
  },
  {
   "cell_type": "code",
   "execution_count": 31,
   "id": "3b31c682-50af-41f9-941b-aae5c1601283",
   "metadata": {},
   "outputs": [
    {
     "data": {
      "text/plain": [
       "'n'"
      ]
     },
     "execution_count": 31,
     "metadata": {},
     "output_type": "execute_result"
    }
   ],
   "source": [
    "name[-6]"
   ]
  },
  {
   "cell_type": "code",
   "execution_count": 32,
   "id": "b0fdb01b-30dc-49f3-99d0-3d6431d39040",
   "metadata": {},
   "outputs": [
    {
     "data": {
      "text/plain": [
       "'ajanGupta'"
      ]
     },
     "execution_count": 32,
     "metadata": {},
     "output_type": "execute_result"
    }
   ],
   "source": [
    "name[1:]"
   ]
  },
  {
   "cell_type": "code",
   "execution_count": 36,
   "id": "dfebb894-846a-47f6-850b-542f021dccf0",
   "metadata": {},
   "outputs": [
    {
     "data": {
      "text/plain": [
       "'Sajan'"
      ]
     },
     "execution_count": 36,
     "metadata": {},
     "output_type": "execute_result"
    }
   ],
   "source": [
    "name[:5]"
   ]
  },
  {
   "cell_type": "code",
   "execution_count": 37,
   "id": "0955b084-46f3-402a-91f8-7abcb16bbeaa",
   "metadata": {},
   "outputs": [
    {
     "data": {
      "text/plain": [
       "'Sjn'"
      ]
     },
     "execution_count": 37,
     "metadata": {},
     "output_type": "execute_result"
    }
   ],
   "source": [
    "name[:5:2]"
   ]
  },
  {
   "cell_type": "code",
   "execution_count": 38,
   "id": "0e1af55d-d9fa-44b0-9574-ca689cef2503",
   "metadata": {},
   "outputs": [
    {
     "data": {
      "text/plain": [
       "'aaGpa'"
      ]
     },
     "execution_count": 38,
     "metadata": {},
     "output_type": "execute_result"
    }
   ],
   "source": [
    "name[1::2]"
   ]
  },
  {
   "cell_type": "code",
   "execution_count": 39,
   "id": "f9b18ac0-ed10-4296-8aca-c03940385ef0",
   "metadata": {},
   "outputs": [
    {
     "data": {
      "text/plain": [
       "''"
      ]
     },
     "execution_count": 39,
     "metadata": {},
     "output_type": "execute_result"
    }
   ],
   "source": [
    "name[1:8:-1]"
   ]
  },
  {
   "cell_type": "code",
   "execution_count": 40,
   "id": "f8a0696c-816d-4567-8adb-2fed92c4cbd1",
   "metadata": {},
   "outputs": [
    {
     "data": {
      "text/plain": [
       "'atpuGnajaS'"
      ]
     },
     "execution_count": 40,
     "metadata": {},
     "output_type": "execute_result"
    }
   ],
   "source": [
    "name[::-1]"
   ]
  },
  {
   "cell_type": "code",
   "execution_count": 45,
   "id": "faf5f9ea-6b06-41d4-a630-c6842bc18748",
   "metadata": {},
   "outputs": [
    {
     "data": {
      "text/plain": [
       "'SajanGupta'"
      ]
     },
     "execution_count": 45,
     "metadata": {},
     "output_type": "execute_result"
    }
   ],
   "source": [
    "name[::1]"
   ]
  },
  {
   "cell_type": "code",
   "execution_count": null,
   "id": "41c4128f-c8e9-4167-8296-2870cd525702",
   "metadata": {},
   "outputs": [],
   "source": [
    "name[::1]"
   ]
  },
  {
   "cell_type": "code",
   "execution_count": 42,
   "id": "ccda2af8-cf90-4bec-a070-2d96d5469521",
   "metadata": {},
   "outputs": [
    {
     "data": {
      "text/plain": [
       "'jaS'"
      ]
     },
     "execution_count": 42,
     "metadata": {},
     "output_type": "execute_result"
    }
   ],
   "source": [
    "name[2::-1]"
   ]
  },
  {
   "cell_type": "code",
   "execution_count": null,
   "id": "0ee79caa-7144-48a7-ad4a-2d5ed6473292",
   "metadata": {},
   "outputs": [
    {
     "data": {
      "text/plain": [
       "'GnajaS'"
      ]
     },
     "execution_count": 44,
     "metadata": {},
     "output_type": "execute_result"
    }
   ],
   "source": [
    "name[5::-1]"
   ]
  },
  {
   "cell_type": "code",
   "execution_count": 41,
   "id": "3b4ae777-fc07-445e-9895-57ce1f42a1c3",
   "metadata": {},
   "outputs": [
    {
     "data": {
      "text/plain": [
       "'atpuG'"
      ]
     },
     "execution_count": 41,
     "metadata": {},
     "output_type": "execute_result"
    }
   ],
   "source": [
    "name[:4:-1]"
   ]
  },
  {
   "cell_type": "code",
   "execution_count": 43,
   "id": "33731c4a-6916-4bb8-9cce-51b50c401d27",
   "metadata": {},
   "outputs": [
    {
     "data": {
      "text/plain": [
       "'atpu'"
      ]
     },
     "execution_count": 43,
     "metadata": {},
     "output_type": "execute_result"
    }
   ],
   "source": [
    "name[:5:-1]"
   ]
  },
  {
   "cell_type": "code",
   "execution_count": 48,
   "id": "f6a776fe-9742-4781-afd7-f4b1a293d6a6",
   "metadata": {},
   "outputs": [
    {
     "data": {
      "text/plain": [
       "'SajanGupta'"
      ]
     },
     "execution_count": 48,
     "metadata": {},
     "output_type": "execute_result"
    }
   ],
   "source": [
    "name[::1]"
   ]
  },
  {
   "cell_type": "code",
   "execution_count": 46,
   "id": "89036f3c-46ae-4ef4-8e1b-1758ef64b724",
   "metadata": {},
   "outputs": [
    {
     "data": {
      "text/plain": [
       "''"
      ]
     },
     "execution_count": 46,
     "metadata": {},
     "output_type": "execute_result"
    }
   ],
   "source": [
    "name[2:5:-1]"
   ]
  },
  {
   "cell_type": "code",
   "execution_count": 47,
   "id": "8dee78a2-fc5d-440c-a86e-ae8659d00f6e",
   "metadata": {},
   "outputs": [
    {
     "data": {
      "text/plain": [
       "'Gna'"
      ]
     },
     "execution_count": 47,
     "metadata": {},
     "output_type": "execute_result"
    }
   ],
   "source": [
    "name[5:2:-1]"
   ]
  },
  {
   "cell_type": "code",
   "execution_count": 30,
   "id": "ea058da3-d890-485d-82ba-334fc278d6cb",
   "metadata": {},
   "outputs": [
    {
     "data": {
      "text/plain": [
       "'najaS'"
      ]
     },
     "execution_count": 30,
     "metadata": {},
     "output_type": "execute_result"
    }
   ],
   "source": [
    "name[-6::-1]"
   ]
  },
  {
   "cell_type": "code",
   "execution_count": 49,
   "id": "759175f4-b424-41d6-9c15-d0d19331d310",
   "metadata": {},
   "outputs": [
    {
     "data": {
      "text/plain": [
       "'at'"
      ]
     },
     "execution_count": 49,
     "metadata": {},
     "output_type": "execute_result"
    }
   ],
   "source": [
    "name[:-3:-1]"
   ]
  },
  {
   "cell_type": "code",
   "execution_count": 50,
   "id": "2b4946ce-9318-460d-8b71-f6d3114cbfbd",
   "metadata": {},
   "outputs": [
    {
     "data": {
      "text/plain": [
       "'puG'"
      ]
     },
     "execution_count": 50,
     "metadata": {},
     "output_type": "execute_result"
    }
   ],
   "source": [
    "name[-3:-6:-1]"
   ]
  },
  {
   "cell_type": "code",
   "execution_count": null,
   "id": "bca6e756-1dc1-416f-8ad3-1d146a2b3e96",
   "metadata": {},
   "outputs": [],
   "source": []
  }
 ],
 "metadata": {
  "kernelspec": {
   "display_name": "Python 3 (ipykernel)",
   "language": "python",
   "name": "python3"
  },
  "language_info": {
   "codemirror_mode": {
    "name": "ipython",
    "version": 3
   },
   "file_extension": ".py",
   "mimetype": "text/x-python",
   "name": "python",
   "nbconvert_exporter": "python",
   "pygments_lexer": "ipython3",
   "version": "3.10.8"
  }
 },
 "nbformat": 4,
 "nbformat_minor": 5
}
