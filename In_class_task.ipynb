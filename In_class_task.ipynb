{
 "cells": [
  {
   "cell_type": "code",
   "execution_count": 1,
   "id": "2364a44b-baea-40bf-8e9e-1f281fc4a86a",
   "metadata": {},
   "outputs": [],
   "source": [
    "course_name='Data Science Masters'"
   ]
  },
  {
   "cell_type": "code",
   "execution_count": 3,
   "id": "8a5a41ad-e00c-4913-9325-0f97ee609d13",
   "metadata": {},
   "outputs": [
    {
     "data": {
      "text/plain": [
       "'Science'"
      ]
     },
     "execution_count": 3,
     "metadata": {},
     "output_type": "execute_result"
    }
   ],
   "source": [
    "course_name[5:12]"
   ]
  },
  {
   "cell_type": "code",
   "execution_count": 4,
   "id": "41b8fa02-294e-409e-b9d1-96e55c6071f7",
   "metadata": {},
   "outputs": [
    {
     "data": {
      "text/plain": [
       "'ecneicS'"
      ]
     },
     "execution_count": 4,
     "metadata": {},
     "output_type": "execute_result"
    }
   ],
   "source": [
    "course_name[11:4:-1]"
   ]
  },
  {
   "cell_type": "code",
   "execution_count": null,
   "id": "41726664-8821-45f2-9b11-0303a4ef76ce",
   "metadata": {},
   "outputs": [],
   "source": []
  },
  {
   "cell_type": "code",
   "execution_count": null,
   "id": "cb10f1ce-72f8-4887-92d2-533c512feedb",
   "metadata": {},
   "outputs": [],
   "source": []
  },
  {
   "cell_type": "code",
   "execution_count": 2,
   "id": "40e15611-4b36-480e-a183-cf31939981a0",
   "metadata": {},
   "outputs": [],
   "source": [
    "str_1= \"Welcome to PWSkills.Welcome to Dat cience Masters\""
   ]
  },
  {
   "cell_type": "code",
   "execution_count": 3,
   "id": "191e3a79-3a27-4e7a-b63f-80d2982b5224",
   "metadata": {},
   "outputs": [
    {
     "data": {
      "text/plain": [
       "'Welcome to PWSkills.Welcome to Data cience Masters'"
      ]
     },
     "execution_count": 3,
     "metadata": {},
     "output_type": "execute_result"
    }
   ],
   "source": [
    "str_1.replace(\"Dat\", \"Data\")"
   ]
  },
  {
   "cell_type": "code",
   "execution_count": 4,
   "id": "198dfee7-4ec2-4429-86ab-4fe2f79f4d02",
   "metadata": {},
   "outputs": [
    {
     "data": {
      "text/plain": [
       "'Welcome to PWSkills.Welcome to Dat Science Masters'"
      ]
     },
     "execution_count": 4,
     "metadata": {},
     "output_type": "execute_result"
    }
   ],
   "source": [
    "str_1.replace(\"cience\", \"Science\")"
   ]
  },
  {
   "cell_type": "code",
   "execution_count": null,
   "id": "82451f1c-d4c3-4f71-987a-f2e6c617fbdf",
   "metadata": {},
   "outputs": [],
   "source": []
  },
  {
   "cell_type": "code",
   "execution_count": null,
   "id": "11a920bd-83dd-4dcb-9ad1-cc2f338c6574",
   "metadata": {},
   "outputs": [],
   "source": []
  },
  {
   "cell_type": "code",
   "execution_count": 11,
   "id": "6fe6a521-6398-4643-a415-943f2ebd93d5",
   "metadata": {},
   "outputs": [
    {
     "name": "stdout",
     "output_type": "stream",
     "text": [
      "0 = s\n",
      "1 = l\n",
      "2 = l\n",
      "3 = i\n",
      "4 = k\n",
      "5 = s\n",
      "6 = w\n",
      "7 = p\n"
     ]
    }
   ],
   "source": [
    "str_2=\"pwskills\"\n",
    "\n",
    "for i in range(len(str_2)):\n",
    "    print(i, \"=\", (str_2[::-1])[i])"
   ]
  },
  {
   "cell_type": "code",
   "execution_count": 16,
   "id": "94199cfd-4290-4cdf-96fb-3de982938b7f",
   "metadata": {},
   "outputs": [
    {
     "name": "stdout",
     "output_type": "stream",
     "text": [
      "0 = s\n",
      "1 = l\n",
      "2 = l\n",
      "3 = i\n",
      "4 = k\n",
      "5 = s\n",
      "6 = w\n",
      "7 = p\n"
     ]
    }
   ],
   "source": [
    "str_3=\"pwskills\"\n",
    "i=0\n",
    "while i<len(str_3):\n",
    "    print(i, \"=\", (str_3[::-1])[i])\n",
    "    i+=1\n",
    "    "
   ]
  },
  {
   "cell_type": "code",
   "execution_count": null,
   "id": "75e8974a-be78-442f-9cd3-68c29af848e6",
   "metadata": {},
   "outputs": [],
   "source": []
  },
  {
   "cell_type": "code",
   "execution_count": 12,
   "id": "6b2a778b-705f-4754-a3b6-d48d3d6331a3",
   "metadata": {},
   "outputs": [
    {
     "name": "stdout",
     "output_type": "stream",
     "text": [
      "There is a vowel i\n",
      "There is a vowel i\n",
      "There is a vowel i\n",
      "There is a vowel i\n",
      "There is a vowel e\n",
      "There is a vowel i\n",
      "There is a vowel U\n",
      "There is a vowel o\n",
      "There is a vowel i\n",
      "There is a vowel a\n"
     ]
    }
   ],
   "source": [
    "Name_1=\"Mississippie is Utopia\"\n",
    "vowels=\"AaEeIiOoUu\"\n",
    "\n",
    "for i in Name_1:\n",
    "    for j in vowels:\n",
    "        if i==j:\n",
    "            print(\"There is a vowel\", i)\n",
    "\n",
    "            "
   ]
  },
  {
   "cell_type": "code",
   "execution_count": null,
   "id": "e0926054-f25c-40ca-8fc2-61f6e3e7162a",
   "metadata": {},
   "outputs": [],
   "source": []
  },
  {
   "cell_type": "code",
   "execution_count": 13,
   "id": "bede34f2-06ec-49b8-8f3d-3d4e2aa58bb7",
   "metadata": {},
   "outputs": [
    {
     "name": "stdout",
     "output_type": "stream",
     "text": [
      "We found 'i' vowel in 'Mississippie is Utopia'\n",
      "We found 'i' vowel in 'Mississippie is Utopia'\n",
      "We found 'i' vowel in 'Mississippie is Utopia'\n",
      "We found 'i' vowel in 'Mississippie is Utopia'\n",
      "We found 'e' vowel in 'Mississippie is Utopia'\n",
      "We found 'i' vowel in 'Mississippie is Utopia'\n",
      "We found 'U' vowel in 'Mississippie is Utopia'\n",
      "We found 'o' vowel in 'Mississippie is Utopia'\n",
      "We found 'i' vowel in 'Mississippie is Utopia'\n",
      "We found 'a' vowel in 'Mississippie is Utopia'\n"
     ]
    }
   ],
   "source": [
    "for i in Name_1:\n",
    "    if i in vowels:\n",
    "        print(\"We found '{}' vowel in '{}'\".format(i, Name_1))"
   ]
  },
  {
   "cell_type": "code",
   "execution_count": null,
   "id": "98889612-95f0-4efd-a7a8-26c2319c4adf",
   "metadata": {},
   "outputs": [],
   "source": []
  },
  {
   "cell_type": "code",
   "execution_count": 15,
   "id": "998d64fd-9eba-4398-85f5-515f05b90f4c",
   "metadata": {},
   "outputs": [
    {
     "name": "stdout",
     "output_type": "stream",
     "text": [
      "M is not a vowel\n",
      "We found 'i' vowel in 'Mississippie is Utopia'\n",
      "s is not a vowel\n",
      "s is not a vowel\n",
      "We found 'i' vowel in 'Mississippie is Utopia'\n",
      "s is not a vowel\n",
      "s is not a vowel\n",
      "We found 'i' vowel in 'Mississippie is Utopia'\n",
      "p is not a vowel\n",
      "p is not a vowel\n",
      "We found 'i' vowel in 'Mississippie is Utopia'\n",
      "We found 'e' vowel in 'Mississippie is Utopia'\n",
      "  is not a vowel\n",
      "We found 'i' vowel in 'Mississippie is Utopia'\n",
      "s is not a vowel\n",
      "  is not a vowel\n",
      "We found 'U' vowel in 'Mississippie is Utopia'\n",
      "t is not a vowel\n",
      "We found 'o' vowel in 'Mississippie is Utopia'\n",
      "p is not a vowel\n",
      "We found 'i' vowel in 'Mississippie is Utopia'\n",
      "We found 'a' vowel in 'Mississippie is Utopia'\n"
     ]
    }
   ],
   "source": [
    "for i in Name_1:\n",
    "    if i in vowels:\n",
    "        print(\"We found '{}' vowel in '{}'\".format(i, Name_1))\n",
    "    else: \n",
    "        print(\"{} is not a vowel\".format(i))"
   ]
  },
  {
   "cell_type": "code",
   "execution_count": null,
   "id": "71f1768d-8294-457a-a644-607e244778aa",
   "metadata": {},
   "outputs": [],
   "source": []
  },
  {
   "cell_type": "code",
   "execution_count": 12,
   "id": "e8612a2a-20f2-44df-a126-3fe073cac3a6",
   "metadata": {},
   "outputs": [
    {
     "name": "stdout",
     "output_type": "stream",
     "text": [
      "found science\n"
     ]
    }
   ],
   "source": [
    "Str_4=\"Pw skills data science masters\"\n",
    "Lst_1= Str_4.split(\" \")\n",
    "for i in Lst_1:\n",
    "    if i == 'science':\n",
    "        print(\"found science\")\n",
    "        break"
   ]
  },
  {
   "cell_type": "code",
   "execution_count": null,
   "id": "1dd2e619-7533-4def-aeb5-07d91a33f9cc",
   "metadata": {},
   "outputs": [],
   "source": []
  },
  {
   "cell_type": "code",
   "execution_count": 8,
   "id": "4b3b2238-f0f6-45aa-a247-b32179caea52",
   "metadata": {},
   "outputs": [
    {
     "data": {
      "text/plain": [
       "36.0"
      ]
     },
     "execution_count": 8,
     "metadata": {},
     "output_type": "execute_result"
    }
   ],
   "source": [
    "Lst_x=[1,2,3,4,5,6,7,8]\n",
    "n=len(Lst_x)\n",
    "(min(Lst_x)+max(Lst_x))*n/2"
   ]
  },
  {
   "cell_type": "code",
   "execution_count": 11,
   "id": "e8f38054-32dd-4566-a038-0147a42fee2f",
   "metadata": {},
   "outputs": [
    {
     "ename": "TypeError",
     "evalue": "'int' object is not iterable",
     "output_type": "error",
     "traceback": [
      "\u001b[0;31m---------------------------------------------------------------------------\u001b[0m",
      "\u001b[0;31mTypeError\u001b[0m                                 Traceback (most recent call last)",
      "Cell \u001b[0;32mIn[11], line 2\u001b[0m\n\u001b[1;32m      1\u001b[0m \u001b[38;5;28;01mfor\u001b[39;00m i \u001b[38;5;129;01min\u001b[39;00m Lst_x:\n\u001b[0;32m----> 2\u001b[0m     \u001b[38;5;28;43msum\u001b[39;49m\u001b[43m(\u001b[49m\u001b[43mi\u001b[49m\u001b[43m)\u001b[49m\n",
      "\u001b[0;31mTypeError\u001b[0m: 'int' object is not iterable"
     ]
    }
   ],
   "source": [
    "for i in Lst_x:\n",
    "    if i%2==0:\n",
    "        print("
   ]
  },
  {
   "cell_type": "code",
   "execution_count": null,
   "id": "7c11c3bd-d2d0-419f-a9da-06842b454b63",
   "metadata": {},
   "outputs": [],
   "source": []
  },
  {
   "cell_type": "code",
   "execution_count": 13,
   "id": "a5c68ccc-b697-4831-a856-1dbe83111b03",
   "metadata": {},
   "outputs": [
    {
     "name": "stdout",
     "output_type": "stream",
     "text": [
      "2\n",
      "6\n",
      "12\n",
      "20\n",
      "20\n",
      "16\n"
     ]
    }
   ],
   "source": [
    "Lst_x=[1,2,3,4,5,6,7,8]\n",
    "sum_even=0\n",
    "sum_odd=0\n",
    "for i in Lst_x:\n",
    "    if i%2==0:\n",
    "        print(sum_even:=i+sum_even)\n",
    "    else:\n",
    "        sum_odd=i+sum_odd\n",
    "print(sum_even)\n",
    "print(sum_odd)"
   ]
  },
  {
   "cell_type": "code",
   "execution_count": null,
   "id": "d1020ac1-a79b-42f3-aad7-0538453c3ce4",
   "metadata": {},
   "outputs": [],
   "source": []
  },
  {
   "cell_type": "code",
   "execution_count": 14,
   "id": "099bd5be-d3b5-40e5-9252-4dcd450d82df",
   "metadata": {},
   "outputs": [
    {
     "data": {
      "text/plain": [
       "[1, 2, 3, 4, 5, 6, 7, 8]"
      ]
     },
     "execution_count": 14,
     "metadata": {},
     "output_type": "execute_result"
    }
   ],
   "source": [
    "[i for i in Lst_x]"
   ]
  },
  {
   "cell_type": "code",
   "execution_count": 18,
   "id": "05e5b6a1-4f6e-4924-a023-0905588f40ee",
   "metadata": {},
   "outputs": [
    {
     "data": {
      "text/plain": [
       "[2, 4, 6, 8]"
      ]
     },
     "execution_count": 18,
     "metadata": {},
     "output_type": "execute_result"
    }
   ],
   "source": [
    "[i for i in Lst_x if i%2==0]"
   ]
  },
  {
   "cell_type": "code",
   "execution_count": 19,
   "id": "7a0afd4f-03b3-4c1a-bff1-bc22b3c2398f",
   "metadata": {},
   "outputs": [
    {
     "data": {
      "text/plain": [
       "20"
      ]
     },
     "execution_count": 19,
     "metadata": {},
     "output_type": "execute_result"
    }
   ],
   "source": [
    "sum([i for i in Lst_x if i%2==0])"
   ]
  },
  {
   "cell_type": "code",
   "execution_count": 20,
   "id": "479c1885-244e-4ae5-a711-96c7eb44749a",
   "metadata": {},
   "outputs": [
    {
     "data": {
      "text/plain": [
       "[1, 3, 5, 7]"
      ]
     },
     "execution_count": 20,
     "metadata": {},
     "output_type": "execute_result"
    }
   ],
   "source": [
    "[i for i in Lst_x if i%2!=0]"
   ]
  },
  {
   "cell_type": "code",
   "execution_count": 21,
   "id": "6f3c29b9-2c9f-4327-8707-93561ae0093f",
   "metadata": {},
   "outputs": [
    {
     "data": {
      "text/plain": [
       "16"
      ]
     },
     "execution_count": 21,
     "metadata": {},
     "output_type": "execute_result"
    }
   ],
   "source": [
    "sum([i for i in Lst_x if i%2!=0])"
   ]
  },
  {
   "cell_type": "code",
   "execution_count": 24,
   "id": "6d1f3bea-9abd-40f1-9654-20930a3fb818",
   "metadata": {},
   "outputs": [],
   "source": [
    "Lst_x.extend([9,10])"
   ]
  },
  {
   "cell_type": "code",
   "execution_count": 25,
   "id": "b3490212-043e-4d56-807a-cb5fe3d5f5a4",
   "metadata": {},
   "outputs": [
    {
     "data": {
      "text/plain": [
       "[1, 4, 9, 16, 25, 36, 49, 64, 81, 100]"
      ]
     },
     "execution_count": 25,
     "metadata": {},
     "output_type": "execute_result"
    }
   ],
   "source": [
    "[i**2 for i in Lst_x ]"
   ]
  },
  {
   "cell_type": "code",
   "execution_count": 31,
   "id": "ecd5dce5-d1ba-4b72-9dd0-cf8aee7e97c1",
   "metadata": {},
   "outputs": [
    {
     "ename": "SyntaxError",
     "evalue": "invalid syntax (1715849396.py, line 1)",
     "output_type": "error",
     "traceback": [
      "\u001b[0;36m  Cell \u001b[0;32mIn[31], line 1\u001b[0;36m\u001b[0m\n\u001b[0;31m    [i for i=int() and -2<=i<=4]\u001b[0m\n\u001b[0m            ^\u001b[0m\n\u001b[0;31mSyntaxError\u001b[0m\u001b[0;31m:\u001b[0m invalid syntax\n"
     ]
    }
   ],
   "source": [
    "[i for i=int() and -2<=i<=4]"
   ]
  },
  {
   "cell_type": "code",
   "execution_count": 32,
   "id": "1f09300c-9c58-4c79-9006-cfb6ee05fa5b",
   "metadata": {},
   "outputs": [
    {
     "ename": "SyntaxError",
     "evalue": "invalid syntax (4173461732.py, line 1)",
     "output_type": "error",
     "traceback": [
      "\u001b[0;36m  Cell \u001b[0;32mIn[32], line 1\u001b[0;36m\u001b[0m\n\u001b[0;31m    [i for i=int(-2,4)]\u001b[0m\n\u001b[0m            ^\u001b[0m\n\u001b[0;31mSyntaxError\u001b[0m\u001b[0;31m:\u001b[0m invalid syntax\n"
     ]
    }
   ],
   "source": [
    "[i for i=int(-2,4)]"
   ]
  },
  {
   "cell_type": "code",
   "execution_count": 34,
   "id": "a1f53393-38a2-4d3f-8e4e-bb21053c3889",
   "metadata": {},
   "outputs": [
    {
     "ename": "SyntaxError",
     "evalue": "invalid syntax (4176706412.py, line 1)",
     "output_type": "error",
     "traceback": [
      "\u001b[0;36m  Cell \u001b[0;32mIn[34], line 1\u001b[0;36m\u001b[0m\n\u001b[0;31m    [i for i=int{-2,4}]\u001b[0m\n\u001b[0m            ^\u001b[0m\n\u001b[0;31mSyntaxError\u001b[0m\u001b[0;31m:\u001b[0m invalid syntax\n"
     ]
    }
   ],
   "source": [
    "[i for i=int{-2,4}]"
   ]
  },
  {
   "cell_type": "code",
   "execution_count": 28,
   "id": "59cff1c7-095b-45a2-a520-253072670aff",
   "metadata": {},
   "outputs": [
    {
     "ename": "SyntaxError",
     "evalue": "cannot assign to expression (143889736.py, line 1)",
     "output_type": "error",
     "traceback": [
      "\u001b[0;36m  Cell \u001b[0;32mIn[28], line 1\u001b[0;36m\u001b[0m\n\u001b[0;31m    [i for i>=-2 and i<=4]\u001b[0m\n\u001b[0m           ^\u001b[0m\n\u001b[0;31mSyntaxError\u001b[0m\u001b[0;31m:\u001b[0m cannot assign to expression\n"
     ]
    }
   ],
   "source": [
    "[i for i>=-2 and i<=4]"
   ]
  },
  {
   "cell_type": "code",
   "execution_count": 30,
   "id": "819aed3c-8470-489c-9da2-97a5e7c19bf6",
   "metadata": {},
   "outputs": [
    {
     "ename": "SyntaxError",
     "evalue": "cannot assign to expression (143889736.py, line 1)",
     "output_type": "error",
     "traceback": [
      "\u001b[0;36m  Cell \u001b[0;32mIn[30], line 1\u001b[0;36m\u001b[0m\n\u001b[0;31m    [i for i>=-2 and i<=4]\u001b[0m\n\u001b[0m           ^\u001b[0m\n\u001b[0;31mSyntaxError\u001b[0m\u001b[0;31m:\u001b[0m cannot assign to expression\n"
     ]
    }
   ],
   "source": [
    "[i for i>=-2 and i<=4]"
   ]
  },
  {
   "cell_type": "code",
   "execution_count": 35,
   "id": "fdb6e7e9-11f1-42d9-b9d1-af429e167beb",
   "metadata": {},
   "outputs": [
    {
     "ename": "SyntaxError",
     "evalue": "invalid syntax (1303410315.py, line 1)",
     "output_type": "error",
     "traceback": [
      "\u001b[0;36m  Cell \u001b[0;32mIn[35], line 1\u001b[0;36m\u001b[0m\n\u001b[0;31m    [i for i+=1 and i<=4]\u001b[0m\n\u001b[0m            ^\u001b[0m\n\u001b[0;31mSyntaxError\u001b[0m\u001b[0;31m:\u001b[0m invalid syntax\n"
     ]
    }
   ],
   "source": [
    "[i for i+=1 and i<=4]"
   ]
  },
  {
   "cell_type": "code",
   "execution_count": null,
   "id": "81dff6ab-4b53-4ec7-8531-8d4b6c6df309",
   "metadata": {},
   "outputs": [],
   "source": []
  },
  {
   "cell_type": "code",
   "execution_count": 44,
   "id": "0fbeb507-0e87-454d-879b-616b7271946f",
   "metadata": {},
   "outputs": [
    {
     "name": "stdout",
     "output_type": "stream",
     "text": [
      "None\n",
      "None\n",
      "None\n",
      "None\n",
      "None\n",
      "None\n",
      "None\n"
     ]
    }
   ],
   "source": [
    "i=-2\n",
    "while i<5:\n",
    "    Lst_b=[i]\n",
    "    i+=1\n",
    "    print(Lst_b.append([i]))"
   ]
  },
  {
   "cell_type": "code",
   "execution_count": 38,
   "id": "8303e41b-4d2e-418d-b474-082be88996a7",
   "metadata": {},
   "outputs": [
    {
     "ename": "SyntaxError",
     "evalue": "invalid syntax (684180747.py, line 1)",
     "output_type": "error",
     "traceback": [
      "\u001b[0;36m  Cell \u001b[0;32mIn[38], line 1\u001b[0;36m\u001b[0m\n\u001b[0;31m    [i while i<5, i+=1, i=-2]\u001b[0m\n\u001b[0m       ^\u001b[0m\n\u001b[0;31mSyntaxError\u001b[0m\u001b[0;31m:\u001b[0m invalid syntax\n"
     ]
    }
   ],
   "source": [
    "[i while i<5, i+=1, i=-2] "
   ]
  },
  {
   "cell_type": "code",
   "execution_count": null,
   "id": "96c9841c-7601-4385-9bd1-fd9d26b5f20b",
   "metadata": {},
   "outputs": [],
   "source": []
  },
  {
   "cell_type": "code",
   "execution_count": 45,
   "id": "1f9c7d03-505b-437e-b942-7733245cb574",
   "metadata": {},
   "outputs": [
    {
     "data": {
      "text/plain": [
       "[1, 2, 3, 4]"
      ]
     },
     "execution_count": 45,
     "metadata": {},
     "output_type": "execute_result"
    }
   ],
   "source": [
    "Lst_c= [-2,-1, 0,1,2,3,4]\n",
    "[i for i in Lst_c if i>0]"
   ]
  },
  {
   "cell_type": "code",
   "execution_count": null,
   "id": "65840857-f0f5-4b23-9d4e-d265904ce14b",
   "metadata": {},
   "outputs": [],
   "source": []
  },
  {
   "cell_type": "code",
   "execution_count": 46,
   "id": "9cc31ab7-755d-4554-99c6-c4aec279349c",
   "metadata": {},
   "outputs": [
    {
     "data": {
      "text/plain": [
       "['a', 'b', 'c', 'd']"
      ]
     },
     "execution_count": 46,
     "metadata": {},
     "output_type": "execute_result"
    }
   ],
   "source": [
    "words = ['apple', 'banana', 'cherry', 'date']\n",
    "[i[0] for i in words ]"
   ]
  },
  {
   "cell_type": "code",
   "execution_count": null,
   "id": "1137e131-f37b-435a-b131-16328504e37a",
   "metadata": {},
   "outputs": [],
   "source": []
  },
  {
   "cell_type": "code",
   "execution_count": 48,
   "id": "5b345c19-26e1-4ecf-a360-24e9f897757a",
   "metadata": {},
   "outputs": [
    {
     "data": {
      "text/plain": [
       "[32, 50, 68, 86, 104, 122]"
      ]
     },
     "execution_count": 48,
     "metadata": {},
     "output_type": "execute_result"
    }
   ],
   "source": [
    "celsius_temperatures = [0, 10, 20, 30, 40, 50]\n",
    "[int((180/100)*i+32) for i in celsius_temperatures]"
   ]
  },
  {
   "cell_type": "code",
   "execution_count": null,
   "id": "51d52e01-2a2f-4ff4-89cd-e75827837c3f",
   "metadata": {},
   "outputs": [],
   "source": []
  },
  {
   "cell_type": "code",
   "execution_count": 7,
   "id": "6c97bf80-a662-4f5e-922c-bf73075e1f2f",
   "metadata": {},
   "outputs": [
    {
     "data": {
      "text/plain": [
       "[1, 2, 3]"
      ]
     },
     "execution_count": 7,
     "metadata": {},
     "output_type": "execute_result"
    }
   ],
   "source": [
    "Lis_1= [[1, 2, 3], [4, 5, 6], [7, 8, 9]]\n",
    "[i for i in Lis_1[0]]"
   ]
  },
  {
   "cell_type": "code",
   "execution_count": 16,
   "id": "bd68cf6c-d1d6-4c33-b016-d17ba892b714",
   "metadata": {},
   "outputs": [
    {
     "name": "stdout",
     "output_type": "stream",
     "text": [
      "None\n"
     ]
    }
   ],
   "source": [
    "Lis_1= [[1, 2, 3], [4, 5, 6], [7, 8, 9]]\n",
    "Lis_2= [i for i in Lis_1[0]]\n",
    "print(Lis_2.append([j for j in Lis_1[1]])"
   ]
  },
  {
   "cell_type": "code",
   "execution_count": 18,
   "id": "a492f07d-0701-4154-a071-39ed28864896",
   "metadata": {},
   "outputs": [
    {
     "ename": "NameError",
     "evalue": "name 'j' is not defined",
     "output_type": "error",
     "traceback": [
      "\u001b[0;31m---------------------------------------------------------------------------\u001b[0m",
      "\u001b[0;31mNameError\u001b[0m                                 Traceback (most recent call last)",
      "Cell \u001b[0;32mIn[18], line 2\u001b[0m\n\u001b[1;32m      1\u001b[0m Lis_1\u001b[38;5;241m=\u001b[39m [[\u001b[38;5;241m1\u001b[39m, \u001b[38;5;241m2\u001b[39m, \u001b[38;5;241m3\u001b[39m], [\u001b[38;5;241m4\u001b[39m, \u001b[38;5;241m5\u001b[39m, \u001b[38;5;241m6\u001b[39m], [\u001b[38;5;241m7\u001b[39m, \u001b[38;5;241m8\u001b[39m, \u001b[38;5;241m9\u001b[39m]]\n\u001b[0;32m----> 2\u001b[0m Lis_2\u001b[38;5;241m=\u001b[39m [i \u001b[38;5;28;01mfor\u001b[39;00m i \u001b[38;5;129;01min\u001b[39;00m Lis_1[\u001b[38;5;241m0\u001b[39m] \u001b[38;5;129;01mand\u001b[39;00m \u001b[43mj\u001b[49m \u001b[38;5;28;01mfor\u001b[39;00m j \u001b[38;5;129;01min\u001b[39;00m Lis_1[\u001b[38;5;241m1\u001b[39m]]\n\u001b[1;32m      3\u001b[0m \u001b[38;5;28mprint\u001b[39m(Lis_2)\n",
      "\u001b[0;31mNameError\u001b[0m: name 'j' is not defined"
     ]
    }
   ],
   "source": [
    "Lis_1= [[1, 2, 3], [4, 5, 6], [7, 8, 9]]\n",
    "Lis_2= [i for i in Lis_1[0] and j for j in Lis_1[1]]\n",
    "print(Lis_2)"
   ]
  },
  {
   "cell_type": "code",
   "execution_count": 19,
   "id": "2055f076-83ef-46bc-bdd4-89808f1ff1e8",
   "metadata": {},
   "outputs": [
    {
     "ename": "SyntaxError",
     "evalue": "invalid syntax (301381743.py, line 2)",
     "output_type": "error",
     "traceback": [
      "\u001b[0;36m  Cell \u001b[0;32mIn[19], line 2\u001b[0;36m\u001b[0m\n\u001b[0;31m    Lis_2= [for i in Lis_1[0] for j in Lis_1[1] i,j]\u001b[0m\n\u001b[0m            ^\u001b[0m\n\u001b[0;31mSyntaxError\u001b[0m\u001b[0;31m:\u001b[0m invalid syntax\n"
     ]
    }
   ],
   "source": [
    "Lis_1= [[1, 2, 3], [4, 5, 6], [7, 8, 9]]\n",
    "Lis_2= [for i in Lis_1[0] for j in Lis_1[1] i,j]\n",
    "print(Lis_2)"
   ]
  },
  {
   "cell_type": "code",
   "execution_count": 20,
   "id": "aa4baeee-56a4-488c-81e8-e6fa80511a4e",
   "metadata": {},
   "outputs": [
    {
     "ename": "NameError",
     "evalue": "name 'j' is not defined",
     "output_type": "error",
     "traceback": [
      "\u001b[0;31m---------------------------------------------------------------------------\u001b[0m",
      "\u001b[0;31mNameError\u001b[0m                                 Traceback (most recent call last)",
      "Cell \u001b[0;32mIn[20], line 2\u001b[0m\n\u001b[1;32m      1\u001b[0m Lis_1\u001b[38;5;241m=\u001b[39m [[\u001b[38;5;241m1\u001b[39m, \u001b[38;5;241m2\u001b[39m, \u001b[38;5;241m3\u001b[39m], [\u001b[38;5;241m4\u001b[39m, \u001b[38;5;241m5\u001b[39m, \u001b[38;5;241m6\u001b[39m], [\u001b[38;5;241m7\u001b[39m, \u001b[38;5;241m8\u001b[39m, \u001b[38;5;241m9\u001b[39m]]\n\u001b[0;32m----> 2\u001b[0m Lis_2\u001b[38;5;241m=\u001b[39m [i \u001b[38;5;28;01mfor\u001b[39;00m i \u001b[38;5;129;01min\u001b[39;00m Lis_1[\u001b[38;5;241m0\u001b[39m] \u001b[38;5;241m+\u001b[39m \u001b[43mj\u001b[49m \u001b[38;5;28;01mfor\u001b[39;00m j \u001b[38;5;129;01min\u001b[39;00m Lis_1[\u001b[38;5;241m1\u001b[39m]]\n\u001b[1;32m      4\u001b[0m \u001b[38;5;28mprint\u001b[39m(Lis_2)\n",
      "\u001b[0;31mNameError\u001b[0m: name 'j' is not defined"
     ]
    }
   ],
   "source": [
    "Lis_1= [[1, 2, 3], [4, 5, 6], [7, 8, 9]]\n",
    "Lis_2= [i for i in Lis_1[0] + j for j in Lis_1[1]]\n",
    "\n",
    "print(Lis_2)"
   ]
  },
  {
   "cell_type": "code",
   "execution_count": 21,
   "id": "764b14cd-b790-449f-b03c-c61308b01668",
   "metadata": {},
   "outputs": [
    {
     "ename": "SyntaxError",
     "evalue": "invalid syntax (3466043343.py, line 2)",
     "output_type": "error",
     "traceback": [
      "\u001b[0;36m  Cell \u001b[0;32mIn[21], line 2\u001b[0;36m\u001b[0m\n\u001b[0;31m    Lis_2= [i+j for i in Lis_1[0] + for j in Lis_1[1]]\u001b[0m\n\u001b[0m                                    ^\u001b[0m\n\u001b[0;31mSyntaxError\u001b[0m\u001b[0;31m:\u001b[0m invalid syntax\n"
     ]
    }
   ],
   "source": [
    "Lis_1= [[1, 2, 3], [4, 5, 6], [7, 8, 9]]\n",
    "Lis_2= [i+j for i in Lis_1[0] + for j in Lis_1[1]]\n",
    "\n",
    "print(Lis_2)"
   ]
  },
  {
   "cell_type": "code",
   "execution_count": 23,
   "id": "3cf136fb-1118-4947-a596-a517d5c81775",
   "metadata": {},
   "outputs": [
    {
     "name": "stdout",
     "output_type": "stream",
     "text": [
      "[1, 2, 3, 4, 5, 6, 7, 8, 9]\n"
     ]
    }
   ],
   "source": [
    "Lis_1= [[1, 2, 3], [4, 5, 6], [7, 8, 9]]\n",
    "Lis_2= [i for i in Lis_1[0]] + [j for j in Lis_1[1]] + [k for k in Lis_1[2]]\n",
    "\n",
    "print(Lis_2)"
   ]
  },
  {
   "cell_type": "code",
   "execution_count": null,
   "id": "426f759e-dcf1-40a9-8026-b28130d0867a",
   "metadata": {},
   "outputs": [],
   "source": []
  }
 ],
 "metadata": {
  "kernelspec": {
   "display_name": "Python 3 (ipykernel)",
   "language": "python",
   "name": "python3"
  },
  "language_info": {
   "codemirror_mode": {
    "name": "ipython",
    "version": 3
   },
   "file_extension": ".py",
   "mimetype": "text/x-python",
   "name": "python",
   "nbconvert_exporter": "python",
   "pygments_lexer": "ipython3",
   "version": "3.10.8"
  }
 },
 "nbformat": 4,
 "nbformat_minor": 5
}
