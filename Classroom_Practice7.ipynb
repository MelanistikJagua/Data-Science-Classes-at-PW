{
 "cells": [
  {
   "cell_type": "code",
   "execution_count": 33,
   "id": "0f2813f9-d78b-444a-b2d9-0bb9c71977eb",
   "metadata": {},
   "outputs": [],
   "source": [
    "## First Class of 'Functions in Python'"
   ]
  },
  {
   "cell_type": "code",
   "execution_count": 6,
   "id": "de8255a2-baa5-45a7-a70a-615a3d625b21",
   "metadata": {},
   "outputs": [
    {
     "ename": "SyntaxError",
     "evalue": "invalid syntax (3065147651.py, line 4)",
     "output_type": "error",
     "traceback": [
      "\u001b[0;36m  Cell \u001b[0;32mIn[6], line 4\u001b[0;36m\u001b[0m\n\u001b[0;31m    b= [j for j in List1 type(List1(i))==int]\u001b[0m\n\u001b[0m                         ^\u001b[0m\n\u001b[0;31mSyntaxError\u001b[0m\u001b[0;31m:\u001b[0m invalid syntax\n"
     ]
    }
   ],
   "source": [
    "List1= [1,2,3,4,5, \"Keep\", \"going\", [4,5,6,7,8]]\n",
    "\n",
    "def test1(List1):\n",
    "    b= [j for j in List1 type(List1(i))==int]\n",
    "    return b  "
   ]
  },
  {
   "cell_type": "code",
   "execution_count": 4,
   "id": "87d67be0-31e9-4aab-83ad-2fb8b30bd8d0",
   "metadata": {},
   "outputs": [
    {
     "ename": "NameError",
     "evalue": "name 'j' is not defined",
     "output_type": "error",
     "traceback": [
      "\u001b[0;31m---------------------------------------------------------------------------\u001b[0m",
      "\u001b[0;31mNameError\u001b[0m                                 Traceback (most recent call last)",
      "Cell \u001b[0;32mIn[4], line 1\u001b[0m\n\u001b[0;32m----> 1\u001b[0m \u001b[43mtest1\u001b[49m\u001b[43m(\u001b[49m\u001b[43mList1\u001b[49m\u001b[43m)\u001b[49m\n",
      "Cell \u001b[0;32mIn[3], line 4\u001b[0m, in \u001b[0;36mtest1\u001b[0;34m(List1)\u001b[0m\n\u001b[1;32m      3\u001b[0m \u001b[38;5;28;01mdef\u001b[39;00m \u001b[38;5;21mtest1\u001b[39m(List1):\n\u001b[0;32m----> 4\u001b[0m     b\u001b[38;5;241m=\u001b[39m [\u001b[43mj\u001b[49m \u001b[38;5;129;01min\u001b[39;00m List1, \u001b[38;5;28mtype\u001b[39m(List1(i))\u001b[38;5;241m==\u001b[39m\u001b[38;5;28mint\u001b[39m]\n\u001b[1;32m      5\u001b[0m     \u001b[38;5;28;01mreturn\u001b[39;00m b\n",
      "\u001b[0;31mNameError\u001b[0m: name 'j' is not defined"
     ]
    }
   ],
   "source": [
    "test1(List1)"
   ]
  },
  {
   "cell_type": "code",
   "execution_count": 9,
   "id": "bc8370b7-e9e6-436b-86f0-343a24177ebb",
   "metadata": {},
   "outputs": [
    {
     "ename": "IndentationError",
     "evalue": "expected an indented block after 'if' statement on line 5 (882367426.py, line 6)",
     "output_type": "error",
     "traceback": [
      "\u001b[0;36m  Cell \u001b[0;32mIn[9], line 6\u001b[0;36m\u001b[0m\n\u001b[0;31m    b = [List1(i)]\u001b[0m\n\u001b[0m    ^\u001b[0m\n\u001b[0;31mIndentationError\u001b[0m\u001b[0;31m:\u001b[0m expected an indented block after 'if' statement on line 5\n"
     ]
    }
   ],
   "source": [
    "List1= [1,2,3,4,5, \"Keep\", \"going\", [4,5,6,7,8]]\n",
    "\n",
    "def test1(List1):\n",
    "    for j in List1:\n",
    "        if type(List1(i))==int:\n",
    "        b = [List1(i)]\n",
    "    return b"
   ]
  },
  {
   "cell_type": "code",
   "execution_count": 12,
   "id": "97ec71a4-6596-4b24-9ec5-85795e20147b",
   "metadata": {},
   "outputs": [],
   "source": [
    "List1= [1,2,3,4,5, \"Keep\", \"going\", [4,5,6,7,8]]\n",
    "\n",
    "def test1(List1):\n",
    "    b=[]\n",
    "    for j in List1:\n",
    "        if type(j)==int or type(j)==float:\n",
    "            b.append(j)\n",
    "    return b"
   ]
  },
  {
   "cell_type": "code",
   "execution_count": 13,
   "id": "8c634662-74b6-4bf0-99b9-060c30a6efc8",
   "metadata": {},
   "outputs": [
    {
     "data": {
      "text/plain": [
       "[1, 2, 3, 4, 5]"
      ]
     },
     "execution_count": 13,
     "metadata": {},
     "output_type": "execute_result"
    }
   ],
   "source": [
    "test1(List1)"
   ]
  },
  {
   "cell_type": "code",
   "execution_count": 14,
   "id": "7b94e69a-1bc9-4611-a950-93c06e22eae8",
   "metadata": {},
   "outputs": [],
   "source": [
    "List1= [1,2,3,4,5, \"Keep\", \"going\", [4,5,6,7,8]]\n",
    "\n",
    "def test1(L):\n",
    "    b=[]\n",
    "    for j in L:\n",
    "        if type(j)==int or type(j)==float:\n",
    "            b.append(j)\n",
    "    return b"
   ]
  },
  {
   "cell_type": "code",
   "execution_count": 15,
   "id": "b1b5897f-0ca4-49a4-bde6-3237c60f5e42",
   "metadata": {},
   "outputs": [
    {
     "data": {
      "text/plain": [
       "[1, 2, 3, 4, 5]"
      ]
     },
     "execution_count": 15,
     "metadata": {},
     "output_type": "execute_result"
    }
   ],
   "source": [
    "test1(List1)"
   ]
  },
  {
   "cell_type": "code",
   "execution_count": 18,
   "id": "28c48d5d-8a05-404b-b7c1-f25534f64483",
   "metadata": {},
   "outputs": [],
   "source": [
    "List1= [1,2,3,4,5, \"Keep\", \"going\", [4,5,6,7,8]]\n",
    "\n",
    "def test1(List):\n",
    "    b=[]\n",
    "    def sub_test(k):\n",
    "        for j in List:\n",
    "            if type(j)==int or type(j)==float:\n",
    "                b.append(j)\n",
    "            elif type(j) == list:\n",
    "                sub_test(j)\n",
    "            \n",
    "    return b"
   ]
  },
  {
   "cell_type": "code",
   "execution_count": 17,
   "id": "d73fa343-f765-46d4-a8e7-a327cffc4105",
   "metadata": {},
   "outputs": [
    {
     "data": {
      "text/plain": [
       "list"
      ]
     },
     "execution_count": 17,
     "metadata": {},
     "output_type": "execute_result"
    }
   ],
   "source": [
    "type(List1)"
   ]
  },
  {
   "cell_type": "code",
   "execution_count": 19,
   "id": "a2d99ec0-e7f7-4b1d-9cf9-3b9b092815df",
   "metadata": {},
   "outputs": [
    {
     "data": {
      "text/plain": [
       "[]"
      ]
     },
     "execution_count": 19,
     "metadata": {},
     "output_type": "execute_result"
    }
   ],
   "source": [
    "test1(List1)"
   ]
  },
  {
   "cell_type": "code",
   "execution_count": 20,
   "id": "71d67db5-7f69-4746-9239-9578e161ef97",
   "metadata": {},
   "outputs": [],
   "source": [
    "List1= [1,2,3,4,5, \"Keep\", \"going\", [4,5,6,7,8]]\n",
    "\n",
    "def test1(List):\n",
    "    b=[]\n",
    "    def sub_test(k):\n",
    "        for j in List:\n",
    "            if type(j)==int or type(j)==float:\n",
    "                b.append(j)\n",
    "            elif type(j) == list:\n",
    "                for i in j:\n",
    "                    sub_test(i)\n",
    "    return b"
   ]
  },
  {
   "cell_type": "code",
   "execution_count": 21,
   "id": "ccfda598-0996-4cfe-a594-a7acef4a44d7",
   "metadata": {},
   "outputs": [
    {
     "data": {
      "text/plain": [
       "[]"
      ]
     },
     "execution_count": 21,
     "metadata": {},
     "output_type": "execute_result"
    }
   ],
   "source": [
    "test1(List1)"
   ]
  },
  {
   "cell_type": "code",
   "execution_count": 26,
   "id": "1f979e3a-106a-4108-abae-699b175cd15b",
   "metadata": {},
   "outputs": [],
   "source": [
    "List1= [1,2,3,4,5, \"Keep\", \"going\", [4,5,6,7,8]]\n",
    "\n",
    "def test1(List):\n",
    "    b=[]\n",
    "    for j in List:\n",
    "        if type(j)==int or type(j)==float:\n",
    "            b.append(j)\n",
    "        else:\n",
    "            if type(j) == list:\n",
    "                for i in j:\n",
    "                    if type(i)==int or type(i)==float:\n",
    "                        b.append(i)\n",
    "           \n",
    "    return b"
   ]
  },
  {
   "cell_type": "code",
   "execution_count": 28,
   "id": "071142d2-3b43-4d86-b736-42d0d34f1d66",
   "metadata": {},
   "outputs": [
    {
     "data": {
      "text/plain": [
       "[1, 2, 3, 4, 5, 4, 5, 6, 7, 8]"
      ]
     },
     "execution_count": 28,
     "metadata": {},
     "output_type": "execute_result"
    }
   ],
   "source": [
    "test1(List1)"
   ]
  },
  {
   "cell_type": "code",
   "execution_count": 31,
   "id": "38baed4d-0a46-4c95-9b93-b5313e7dd972",
   "metadata": {},
   "outputs": [],
   "source": []
  },
  {
   "cell_type": "code",
   "execution_count": null,
   "id": "1e8d2eab-3204-4cae-bcc1-2719b9be188a",
   "metadata": {},
   "outputs": [],
   "source": []
  }
 ],
 "metadata": {
  "kernelspec": {
   "display_name": "Python 3 (ipykernel)",
   "language": "python",
   "name": "python3"
  },
  "language_info": {
   "codemirror_mode": {
    "name": "ipython",
    "version": 3
   },
   "file_extension": ".py",
   "mimetype": "text/x-python",
   "name": "python",
   "nbconvert_exporter": "python",
   "pygments_lexer": "ipython3",
   "version": "3.10.8"
  }
 },
 "nbformat": 4,
 "nbformat_minor": 5
}
